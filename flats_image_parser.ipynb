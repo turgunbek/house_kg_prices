{
 "cells": [
  {
   "cell_type": "code",
   "execution_count": 1,
   "id": "1e5064c0",
   "metadata": {},
   "outputs": [],
   "source": [
    "import csv\n",
    "from bs4 import BeautifulSoup\n",
    "import requests\n",
    "import os\n",
    "from tqdm import tqdm\n",
    "import pandas as pd"
   ]
  },
  {
   "cell_type": "code",
   "execution_count": 2,
   "id": "d9b9357c",
   "metadata": {},
   "outputs": [],
   "source": [
    "from urllib.parse import urlparse\n",
    "\n",
    "# Функция для получения имени файла из URL\n",
    "def get_filename_from_url(url):\n",
    "    parsed_url = urlparse(url)\n",
    "    return os.path.basename(parsed_url.path)"
   ]
  },
  {
   "cell_type": "code",
   "execution_count": 3,
   "id": "0b245a24",
   "metadata": {},
   "outputs": [],
   "source": [
    "df = pd.read_csv('flats_unique.csv')\n",
    "flat_urls = df['link']"
   ]
  },
  {
   "cell_type": "code",
   "execution_count": 52,
   "id": "976ee93b",
   "metadata": {},
   "outputs": [
    {
     "data": {
      "text/plain": [
       "31"
      ]
     },
     "execution_count": 52,
     "metadata": {},
     "output_type": "execute_result"
    }
   ],
   "source": [
    "START_ID = 1901\n",
    "END_ID = 1970\n",
    "\n",
    "dir_images = 'images'\n",
    "\n",
    "err_name = 'download_errors_' + str(START_ID) + '_' + str(END_ID) + '.csv'\n",
    "csv_errors = open(err_name, mode='w', newline='', encoding='utf-8')\n",
    "writer_err = csv.writer(csv_errors)\n",
    "writer_err.writerow(['flat_url', 'image_url', 'image_name'])\n",
    "\n",
    "FILE_OUT_NAME = 'url_images_' + str(START_ID) + '_' + str(END_ID) + '.csv'\n",
    "csv_file = open(FILE_OUT_NAME, mode='w', newline='', encoding='utf-8')\n",
    "writer = csv.writer(csv_file)\n",
    "\n",
    "writer.writerow(['flat_url', 'image_url', 'image_name'])"
   ]
  },
  {
   "cell_type": "code",
   "execution_count": 53,
   "id": "af8a5ac1",
   "metadata": {
    "scrolled": true
   },
   "outputs": [
    {
     "name": "stderr",
     "output_type": "stream",
     "text": [
      "Flat images parsing:   1%|▉                                                             | 1/70 [00:04<04:55,  4.29s/it]"
     ]
    },
    {
     "name": "stdout",
     "output_type": "stream",
     "text": [
      "Фото 1 скачано как 67ee4159d3e3ce456e436809eedc949c_1200x900.jpg и записано в CSV.\n",
      "--------end of flat 1901 / 1970 ---------\n",
      "Фото 1 скачано как a1bff18b9d6aa9ad662a939100daaf8a_1200x900.jpg и записано в CSV.\n",
      "Фото 2 скачано как fe54802e9087318619f93eb749f074c0_1200x900.jpg и записано в CSV.\n",
      "Фото 3 скачано как c7b35b5c253dd738de371a418a299f06_1200x900.jpg и записано в CSV.\n",
      "Фото 4 скачано как 81fe3d7501f7ccacbde6373b90c5d2d2_1200x900.jpg и записано в CSV.\n",
      "Фото 5 скачано как 9b260513b7dd429a11f24fdf3e2701e2_1200x900.jpg и записано в CSV.\n"
     ]
    },
    {
     "name": "stderr",
     "output_type": "stream",
     "text": [
      "\r",
      "Flat images parsing:   3%|█▊                                                            | 2/70 [00:17<10:59,  9.70s/it]"
     ]
    },
    {
     "name": "stdout",
     "output_type": "stream",
     "text": [
      "Фото 6 скачано как 8b7b3c4c0b323ef2dd9d62b35a8e07cd_1200x900.jpg и записано в CSV.\n",
      "--------end of flat 1902 / 1970 ---------\n",
      "Фото 1 скачано как 400655771f0e4559d53d1a6e1d709ac3_1200x900.jpg и записано в CSV.\n",
      "Фото 2 скачано как e5fe76235450234e23cf96f5971c8c11_1200x900.jpg и записано в CSV.\n",
      "Фото 3 скачано как f83ca6ac7509511c97f2f3001a35538e_1200x900.jpg и записано в CSV.\n",
      "Фото 4 скачано как 1b19f069e3eb6ba6dcd157ff07089b94_1200x900.jpg и записано в CSV.\n"
     ]
    },
    {
     "name": "stderr",
     "output_type": "stream",
     "text": [
      "\r",
      "Flat images parsing:   4%|██▋                                                           | 3/70 [00:27<10:43,  9.61s/it]"
     ]
    },
    {
     "name": "stdout",
     "output_type": "stream",
     "text": [
      "Фото 5 скачано как a935d5df6ed53f909f3806c5b36cb7ed_1200x900.jpg и записано в CSV.\n",
      "--------end of flat 1903 / 1970 ---------\n",
      "Фото 1 скачано как a4b01a4e0cc181ec8aea18c5c44163e4_1200x900.jpg и записано в CSV.\n",
      "Фото 2 скачано как 92734c399042070059dbde3c46951211_1200x900.jpg и записано в CSV.\n"
     ]
    },
    {
     "name": "stderr",
     "output_type": "stream",
     "text": [
      "\r",
      "Flat images parsing:   6%|███▌                                                          | 4/70 [00:35<10:09,  9.24s/it]"
     ]
    },
    {
     "name": "stdout",
     "output_type": "stream",
     "text": [
      "Фото 3 скачано как 456cb59a190b465af79008479f8997c0_1200x900.jpg и записано в CSV.\n",
      "--------end of flat 1904 / 1970 ---------\n",
      "Фото 1 скачано как c2c79a49bad65a1d6c3e15cc82b1907a_1200x900.jpg и записано в CSV.\n"
     ]
    },
    {
     "name": "stderr",
     "output_type": "stream",
     "text": [
      "\r",
      "Flat images parsing:   7%|████▍                                                         | 5/70 [00:41<08:37,  7.96s/it]"
     ]
    },
    {
     "name": "stdout",
     "output_type": "stream",
     "text": [
      "Фото 2 скачано как 6cc32569c04074d44d57dbee20665751_1200x900.jpg и записано в CSV.\n",
      "--------end of flat 1905 / 1970 ---------\n",
      "Фото 1 скачано как c44ee6786a288edf7d9aeabc09c70471_1200x900.jpg и записано в CSV.\n",
      "Фото 2 скачано как 95e43f29c82d55e65749076781e3d9ce_1200x900.jpg и записано в CSV.\n",
      "Фото 3 скачано как 4bfa9d2f1cbbd9e8b9d4c3a1c1e29395_1200x900.jpg и записано в CSV.\n",
      "Фото 4 скачано как 55b492161d7461ac31fc198dfb6c4137_1200x900.jpg и записано в CSV.\n",
      "Фото 5 скачано как 2acef597bbcce6b06eb291befc5e3637_1200x900.jpg и записано в CSV.\n",
      "Фото 6 скачано как e5c26c4b18ec1d278a55ed4e17b31370_1200x900.jpg и записано в CSV.\n",
      "Фото 7 скачано как 5d533bfc41d828b200663f19b1e3752c_1200x900.jpg и записано в CSV.\n",
      "Фото 8 скачано как 2e28a43d1a398c1f14b4127c9be16404_1200x900.jpg и записано в CSV.\n",
      "Фото 9 скачано как 132203f8ad305dabf18636f056fa6a97_1200x900.jpg и записано в CSV.\n",
      "Фото 10 скачано как 64de7eff05c407a5380e9bd74ddd8cfb_1200x900.jpg и записано в CSV.\n",
      "Фото 11 скачано как e37164ff51076bfd7d3d08ccdaa81ce7_1200x900.jpg и записано в CSV.\n"
     ]
    },
    {
     "name": "stderr",
     "output_type": "stream",
     "text": [
      "\r",
      "Flat images parsing:   9%|█████▎                                                        | 6/70 [01:10<16:11, 15.18s/it]"
     ]
    },
    {
     "name": "stdout",
     "output_type": "stream",
     "text": [
      "Фото 12 скачано как 3AQXYx и записано в CSV.\n",
      "--------end of flat 1906 / 1970 ---------\n",
      "Фото 1 скачано как 8c1c4930b75aabc9275354ec5b85ff71_1200x900.jpg и записано в CSV.\n",
      "Фото 2 скачано как b422cc633f5d3844d42eb35f9271f96b_1200x900.jpg и записано в CSV.\n",
      "Фото 3 скачано как 9b54bed7e6d67e0528b7bd6027cb440d_1200x900.jpg и записано в CSV.\n",
      "Фото 4 скачано как aaad86a810d92f890d75246af326df99_1200x900.jpg и записано в CSV.\n",
      "Фото 5 скачано как 420d2f6922d08c05286ff19ad806f224_1200x900.jpg и записано в CSV.\n",
      "Фото 6 скачано как 2b27cee4fa098081f535bdf96cba5605_1200x900.jpg и записано в CSV.\n",
      "Фото 7 скачано как 3f91650440f30b0eb5edfc075ef5b52d_1200x900.jpg и записано в CSV.\n",
      "Фото 8 скачано как 0176cba21df82f9bda9b4a3e9e63f016_1200x900.jpg и записано в CSV.\n",
      "Фото 9 скачано как ad73340d5f56b8e813e516c6ea8ddff8_1200x900.jpg и записано в CSV.\n",
      "Фото 10 скачано как b938c6a7339b9ec5a3842eb3945b3ce0_1200x900.jpg и записано в CSV.\n"
     ]
    },
    {
     "name": "stderr",
     "output_type": "stream",
     "text": [
      "\r",
      "Flat images parsing:  10%|██████▏                                                       | 7/70 [01:35<19:07, 18.21s/it]"
     ]
    },
    {
     "name": "stdout",
     "output_type": "stream",
     "text": [
      "Фото 11 скачано как 6824f865f284c09da746a2a49ee7af56_1200x900.jpg и записано в CSV.\n",
      "--------end of flat 1907 / 1970 ---------\n",
      "Фото 1 скачано как fdbf28c310e9f887a86c853de099f4de_1200x900.jpg и записано в CSV.\n",
      "Фото 2 скачано как 0c1500c1140ade13e618b359fc49e69c_1200x900.jpg и записано в CSV.\n",
      "Фото 3 скачано как 68f028796b63c1d3cb7e2027679874a5_1200x900.jpg и записано в CSV.\n",
      "Фото 4 скачано как 79faaec20a3c16fd113592b309253f50_1200x900.jpg и записано в CSV.\n",
      "Фото 5 скачано как efb194130a70cacec649a641ddec7737_1200x900.jpg и записано в CSV.\n",
      "Фото 6 скачано как 919aa18aa85abc4cd1cb362958606d7d_1200x900.jpg и записано в CSV.\n",
      "Фото 7 скачано как a56797510f42c7dd5916e745a21d44e9_1200x900.jpg и записано в CSV.\n",
      "Фото 8 скачано как e0b22abcc4a5fe6deff277a0c9fddd55_1200x900.jpg и записано в CSV.\n",
      "Фото 9 скачано как c5f53cc8c02a20dba2c26051ac6b6cdf_1200x900.jpg и записано в CSV.\n",
      "Фото 10 скачано как a573b09dcc537639555724c9961a282c_1200x900.jpg и записано в CSV.\n",
      "Фото 11 скачано как 3152dbca22dc98d79d78b01e6885913c_1200x900.jpg и записано в CSV.\n",
      "Фото 12 скачано как 959a10b6388ecdf23de34d8c5c684cc5_1200x900.jpg и записано в CSV.\n",
      "Фото 13 скачано как fd6415d7ec25a27dfa680f8a58d5168a_1200x900.jpg и записано в CSV.\n",
      "Фото 14 скачано как 48c4ec2e4076a83d3878675edb09e551_1200x900.jpg и записано в CSV.\n",
      "Фото 15 скачано как 5bc4c0406ce69ac3dd6c68685f27e926_1200x900.jpg и записано в CSV.\n",
      "Фото 16 скачано как 640eba04c269607873412b5245e68582_1200x900.jpg и записано в CSV.\n",
      "Фото 17 скачано как 6ec92eed0a3136ee4f36720681bca979_1200x900.jpg и записано в CSV.\n",
      "Фото 18 скачано как 7cc6962b77f51d4832d99378cabd13de_1200x900.jpg и записано в CSV.\n",
      "Фото 19 скачано как 4ad52d4ec92b037406f5f4c4627f38c1_1200x900.jpg и записано в CSV.\n",
      "Фото 20 скачано как e301c8302c362376b2df56ae3b4d6902_1200x900.jpg и записано в CSV.\n",
      "Фото 21 скачано как 886c9ec944eb84baf39c7b3fcb70a214_1200x900.jpg и записано в CSV.\n",
      "Фото 22 скачано как 6159d7b66a3710978d7014329597bbf6_1200x900.jpg и записано в CSV.\n",
      "Фото 23 скачано как b425977bbf8ae23d072f2b81f4113929_1200x900.jpg и записано в CSV.\n",
      "Фото 24 скачано как 6ee43aa0bacffb7cd10b00196fe59392_1200x900.jpg и записано в CSV.\n",
      "Фото 25 скачано как c444943df6f4d9352b28b25a29dfa189_1200x900.jpg и записано в CSV.\n",
      "Фото 26 скачано как 1285839c3ef3f1ef00ed9eb212e72165_1200x900.jpg и записано в CSV.\n"
     ]
    },
    {
     "name": "stderr",
     "output_type": "stream",
     "text": [
      "\r",
      "Flat images parsing:  11%|███████                                                       | 8/70 [02:26<29:42, 28.75s/it]"
     ]
    },
    {
     "name": "stdout",
     "output_type": "stream",
     "text": [
      "Фото 27 скачано как z7rvWKIV-as и записано в CSV.\n",
      "--------end of flat 1908 / 1970 ---------\n",
      "Фото 1 скачано как e9de84c751b9d4dc379619daca6da4f7_1200x900.jpg и записано в CSV.\n",
      "Фото 2 скачано как 6b8d046b53b7f438d1557aac6d126f4c_1200x900.jpg и записано в CSV.\n",
      "Фото 3 скачано как 6c0e5bd59df83021a6105eb0aba5731c_1200x900.jpg и записано в CSV.\n",
      "Фото 4 скачано как 118f8ad58fdf3504b5ec11986f1b2a45_1200x900.jpg и записано в CSV.\n",
      "Фото 5 скачано как 192477d1edb9f5351330281405869a7a_1200x900.jpg и записано в CSV.\n",
      "Фото 6 скачано как 0fdc1076d4291782eb45c106bf99cc6a_1200x900.jpg и записано в CSV.\n",
      "Фото 7 скачано как d9d0d031b12232ab73c2718f53b1ea83_1200x900.jpg и записано в CSV.\n",
      "Фото 8 скачано как 91102f4923081a9de55d1f1142fdbbc2_1200x900.jpg и записано в CSV.\n",
      "Фото 9 скачано как b607c4af16dc6e4f44e2bb94cb579b38_1200x900.jpg и записано в CSV.\n",
      "Фото 10 скачано как 1213acbf6fb25dc9fc4dc62a96247561_1200x900.jpg и записано в CSV.\n",
      "Фото 11 скачано как 1950bef59ee16eb8d62474f445eaa05d_1200x900.jpg и записано в CSV.\n",
      "Фото 12 скачано как 08bb0ed18bae6cee2e6045e9ce7b4429_1200x900.jpg и записано в CSV.\n",
      "Фото 13 скачано как ead8764e2db2249619d390b29a132c7a_1200x900.jpg и записано в CSV.\n",
      "Фото 14 скачано как 96d931c22de887042df6898fbaa7695c_1200x900.jpg и записано в CSV.\n",
      "Фото 15 скачано как a97f36b90c11b316d960a8d4ed866d14_1200x900.jpg и записано в CSV.\n",
      "Фото 16 скачано как 4c002ad94e7c22f22aecae64afeec601_1200x900.jpg и записано в CSV.\n",
      "Фото 17 скачано как 364da485d78d2221fb04e52a49d3e7ec_1200x900.jpg и записано в CSV.\n"
     ]
    },
    {
     "name": "stderr",
     "output_type": "stream",
     "text": [
      "\r",
      "Flat images parsing:  13%|███████▉                                                      | 9/70 [03:07<32:56, 32.41s/it]"
     ]
    },
    {
     "name": "stdout",
     "output_type": "stream",
     "text": [
      "Ошибка при скачивании фото 18.\n",
      "--------end of flat 1909 / 1970 ---------\n",
      "Фото 1 скачано как b29fdc22cece410f93a0c82d898da7db_1200x900.jpg и записано в CSV.\n",
      "Фото 2 скачано как fb66be192cd1c01e01cfd09b712ec049_1200x900.jpg и записано в CSV.\n",
      "Фото 3 скачано как b8ba3d159f0db2cd8bbc11ff70ec05a9_1200x900.jpg и записано в CSV.\n",
      "Фото 4 скачано как e21093b6e4ebe5c39d2377bf81eb35b4_1200x900.jpg и записано в CSV.\n",
      "Фото 5 скачано как 8136543a72ca195065580a9bc0c9dd04_1200x900.jpg и записано в CSV.\n",
      "Фото 6 скачано как 2e6ce1cc6a9dafaff4d67e759dc93123_1200x900.jpg и записано в CSV.\n",
      "Фото 7 скачано как 39f3c44412104f31bb3ac49c2ac68fba_1200x900.jpg и записано в CSV.\n",
      "Фото 8 скачано как 6a2c903e005d70973e85bed33233bdd0_1200x900.jpg и записано в CSV.\n",
      "Фото 9 скачано как 6ebb49192fb764835ae22c847a7b4994_1200x900.jpg и записано в CSV.\n",
      "Фото 10 скачано как d94ca116bce15079f2ff78236bad2026_1200x900.jpg и записано в CSV.\n",
      "Фото 11 скачано как 8c622dac27c5ec3529fa10c487741cc2_1200x900.jpg и записано в CSV.\n"
     ]
    },
    {
     "name": "stderr",
     "output_type": "stream",
     "text": [
      "\r",
      "Flat images parsing:  14%|████████▋                                                    | 10/70 [03:35<31:16, 31.28s/it]"
     ]
    },
    {
     "name": "stdout",
     "output_type": "stream",
     "text": [
      "Фото 12 скачано как 1b59a9465d8cf08c9d4e9b3b70ced75b_1200x900.jpg и записано в CSV.\n",
      "--------end of flat 1910 / 1970 ---------\n",
      "Фото 1 скачано как 7bca62a3105bb4dc4a85984186a65c59_1200x900.jpg и записано в CSV.\n",
      "Фото 2 скачано как 74c53719e0db507c198bdc049d87def2_1200x900.jpg и записано в CSV.\n",
      "Фото 3 скачано как f6bf07c9c068c897d83dbdbaf08927c9_1200x900.jpg и записано в CSV.\n",
      "Фото 4 скачано как 48f955c34f262b9b9de6d140351141bc_1200x900.jpg и записано в CSV.\n"
     ]
    },
    {
     "name": "stderr",
     "output_type": "stream",
     "text": [
      "\r",
      "Flat images parsing:  16%|█████████▌                                                   | 11/70 [03:47<24:59, 25.41s/it]"
     ]
    },
    {
     "name": "stdout",
     "output_type": "stream",
     "text": [
      "Фото 5 скачано как 8ba6564447abdae466d8f2a86e44e60f_1200x900.jpg и записано в CSV.\n",
      "--------end of flat 1911 / 1970 ---------\n",
      "Фото 1 скачано как 1df8d929e8ed242691f1864f12641c8c_1200x900.jpg и записано в CSV.\n",
      "Фото 2 скачано как 449d6d4b6ed44ed16a87d01e751717c5_1200x900.jpg и записано в CSV.\n",
      "Фото 3 скачано как fa6f6d9703d1e6849da0365489e4c0f4_1200x900.jpg и записано в CSV.\n",
      "Фото 4 скачано как e2200d08455cb67d59881c958164c5fe_1200x900.jpg и записано в CSV.\n",
      "Фото 5 скачано как d449a63653d98488ffaa98d7ec3427d2_1200x900.jpg и записано в CSV.\n",
      "Фото 6 скачано как ab1bcee092c7b16ab6898381311a41a6_1200x900.jpg и записано в CSV.\n",
      "Фото 7 скачано как ab72d6375ca22d03f931512f5e471eef_1200x900.jpg и записано в CSV.\n",
      "Фото 8 скачано как 8ee70c5c6ce5384d91b1ae49427fc817_1200x900.jpg и записано в CSV.\n",
      "Фото 9 скачано как 6a97b3cf1b43893dee5065501ce990b4_1200x900.jpg и записано в CSV.\n",
      "Фото 10 скачано как 1d0760c385371b02e338848c11cbf999_1200x900.jpg и записано в CSV.\n"
     ]
    },
    {
     "name": "stderr",
     "output_type": "stream",
     "text": [
      "\r",
      "Flat images parsing:  17%|██████████▍                                                  | 12/70 [04:08<23:08, 23.94s/it]"
     ]
    },
    {
     "name": "stdout",
     "output_type": "stream",
     "text": [
      "Фото 11 скачано как 816c50c91361961f1bb637ebd49c0682_1200x900.jpg и записано в CSV.\n",
      "--------end of flat 1912 / 1970 ---------\n",
      "Фото 1 скачано как fffcbc49dc9b30a6197bbbaaa34f1f67_1200x900.jpg и записано в CSV.\n",
      "Фото 2 скачано как 7d73eb630a8e6ddcd846b4d9b38eedfd_1200x900.jpg и записано в CSV.\n",
      "Фото 3 скачано как 60d21ada57e877c5722c51b5437d392c_1200x900.jpg и записано в CSV.\n",
      "Фото 4 скачано как e2e1d4076c8741f2d5bffabef4714586_1200x900.jpg и записано в CSV.\n",
      "Фото 5 скачано как 26f44e679dfc105e61f42991789d5985_1200x900.jpg и записано в CSV.\n",
      "Фото 6 скачано как f7643cfef03e1933d6eefe34bd0107dd_1200x900.jpg и записано в CSV.\n",
      "Фото 7 скачано как 923c3f860314eab7add1f73dc9ce3748_1200x900.jpg и записано в CSV.\n"
     ]
    },
    {
     "name": "stderr",
     "output_type": "stream",
     "text": [
      "\r",
      "Flat images parsing:  19%|███████████▎                                                 | 13/70 [04:28<21:41, 22.84s/it]"
     ]
    },
    {
     "name": "stdout",
     "output_type": "stream",
     "text": [
      "Фото 8 скачано как 81c0e63ee0a534c81ce55120a35164b3_1200x900.jpg и записано в CSV.\n",
      "--------end of flat 1913 / 1970 ---------\n",
      "Фото 1 скачано как f2ee8f4b129a115f7f992bc52b191c4f_1200x900.jpg и записано в CSV.\n",
      "Фото 2 скачано как e29d9ad89c1f53cc3f1c2561683feb5b_1200x900.jpg и записано в CSV.\n",
      "Фото 3 скачано как 1c185e4df65ba346edcf1367be8773a1_1200x900.jpg и записано в CSV.\n"
     ]
    },
    {
     "name": "stderr",
     "output_type": "stream",
     "text": [
      "\r",
      "Flat images parsing:  20%|████████████▏                                                | 14/70 [04:40<18:04, 19.36s/it]"
     ]
    },
    {
     "name": "stdout",
     "output_type": "stream",
     "text": [
      "Фото 4 скачано как dd79b78f7fc5aa0b0b76249c4352cec5_1200x900.jpg и записано в CSV.\n",
      "--------end of flat 1914 / 1970 ---------\n",
      "Фото 1 скачано как c0176856b867a2bda70d6a345f92e4df_1200x900.jpg и записано в CSV.\n",
      "Фото 2 скачано как a279fddd7c085ace9c334f35d242fe33_1200x900.jpg и записано в CSV.\n",
      "Фото 3 скачано как 8d330e889605286097443c39c68647a6_1200x900.jpg и записано в CSV.\n",
      "Фото 4 скачано как a53a7784a86eccbf5d450e73947e3285_1200x900.jpg и записано в CSV.\n",
      "Фото 5 скачано как 2c61dc6baf9d060a109cb36aba566792_1200x900.jpg и записано в CSV.\n",
      "Фото 6 скачано как 3c0ab9a5098dd1f47e8b38cdcf5332c5_1200x900.jpg и записано в CSV.\n",
      "Фото 7 скачано как 7d86001602a90ebda7418ea8968dbed1_1200x900.jpg и записано в CSV.\n",
      "Фото 8 скачано как f1e7eef9ad6bfbbec67a5de098f30117_1200x900.jpg и записано в CSV.\n",
      "Фото 9 скачано как f0b297774e66b9a77322d6a528202d19_1200x900.jpg и записано в CSV.\n"
     ]
    },
    {
     "name": "stderr",
     "output_type": "stream",
     "text": [
      "\r",
      "Flat images parsing:  21%|█████████████                                                | 15/70 [05:04<19:08, 20.89s/it]"
     ]
    },
    {
     "name": "stdout",
     "output_type": "stream",
     "text": [
      "Фото 10 скачано как 6297ec889f8c042c7219f9226c59f50b_1200x900.jpg и записано в CSV.\n",
      "--------end of flat 1915 / 1970 ---------\n",
      "Фото 1 скачано как a0d91eb014f3447b691e66e1693cfc8c_1200x900.jpg и записано в CSV.\n",
      "Фото 2 скачано как 1b984a6d3b91a4d0100c4ff504dd2463_1200x900.jpg и записано в CSV.\n",
      "Фото 3 скачано как 4edeb6bad3af770f242aa730b3920cbf_1200x900.jpg и записано в CSV.\n",
      "Фото 4 скачано как 202a8369b055432771c2df7476238748_1200x900.jpg и записано в CSV.\n",
      "Фото 5 скачано как 32040bb63c04e34d8eff66f8e249cc30_1200x900.jpg и записано в CSV.\n",
      "Фото 6 скачано как 443d5f30ff1afa2cf774730783fab22e_1200x900.jpg и записано в CSV.\n",
      "Фото 7 скачано как de667911193d750b14d5c34e1bf0347a_1200x900.jpg и записано в CSV.\n",
      "Фото 8 скачано как 7eb439aae5a0b221a8ce77de3e7a89ed_1200x900.jpg и записано в CSV.\n"
     ]
    },
    {
     "name": "stderr",
     "output_type": "stream",
     "text": [
      "\r",
      "Flat images parsing:  23%|█████████████▉                                               | 16/70 [05:26<19:11, 21.33s/it]"
     ]
    },
    {
     "name": "stdout",
     "output_type": "stream",
     "text": [
      "Фото 9 скачано как f52f6acda086123370b4ca17e65eb81b_1200x900.jpg и записано в CSV.\n",
      "--------end of flat 1916 / 1970 ---------\n",
      "Фото 1 скачано как 7c75f8ef31bed8633a697c89d1c92817_1200x900.jpg и записано в CSV.\n"
     ]
    },
    {
     "name": "stderr",
     "output_type": "stream",
     "text": [
      "\r",
      "Flat images parsing:  24%|██████████████▊                                              | 17/70 [05:31<14:30, 16.42s/it]"
     ]
    },
    {
     "name": "stdout",
     "output_type": "stream",
     "text": [
      "Фото 2 скачано как 888143c178990d4c7f1dee1190c17c9a_1200x900.jpg и записано в CSV.\n",
      "--------end of flat 1917 / 1970 ---------\n",
      "Фото 1 скачано как 2733ec2ac8c86812665f6569389eff27_1200x900.jpg и записано в CSV.\n",
      "Фото 2 скачано как df2dd876cb97b43cc56bf450eadf3430_1200x900.jpg и записано в CSV.\n",
      "Фото 3 скачано как 3b5cc6c83597741a534912b296e7d6fa_1200x900.jpg и записано в CSV.\n",
      "Фото 4 скачано как 4a9f34a008d0ec1fb23f4ce1c847a20d_1200x900.jpg и записано в CSV.\n",
      "Фото 5 скачано как f436600120cf571c80fe14124586e6c5_1200x900.jpg и записано в CSV.\n",
      "Фото 6 скачано как 0a74c762c094a357bf09cf9f3b35e296_1200x900.jpg и записано в CSV.\n",
      "Фото 7 скачано как 2087805212da70bbd88b043d8ed86859_1200x900.jpg и записано в CSV.\n",
      "Фото 8 скачано как 5baaf40f82cf5d6a3184dae791ef73d0_1200x900.jpg и записано в CSV.\n",
      "Фото 9 скачано как f9480f0aa24806fdfb9d02baef2abbc2_1200x900.jpg и записано в CSV.\n",
      "Фото 10 скачано как 213d15d5321546151b631fda43f9ba68_1200x900.jpg и записано в CSV.\n",
      "Фото 11 скачано как 904e99df2f16aa2d12909c4cabd569f2_1200x900.jpg и записано в CSV.\n",
      "Фото 12 скачано как 6697993a0e7d17fe9f67be1c6bca939c_1200x900.jpg и записано в CSV.\n",
      "Фото 13 скачано как 4103f69b7d5362a191b8908948c09dd2_1200x900.jpg и записано в CSV.\n",
      "Фото 14 скачано как 7234a27ad6bf9bea48a1af2978670ece_1200x900.jpg и записано в CSV.\n"
     ]
    },
    {
     "name": "stderr",
     "output_type": "stream",
     "text": [
      "\r",
      "Flat images parsing:  26%|███████████████▋                                             | 18/70 [06:01<17:38, 20.35s/it]"
     ]
    },
    {
     "name": "stdout",
     "output_type": "stream",
     "text": [
      "Фото 15 скачано как fc9ef9e05d59a28d1b3b1914dcf85189_1200x900.jpg и записано в CSV.\n",
      "--------end of flat 1918 / 1970 ---------\n",
      "Фото 1 скачано как 12e420d1dd708e37224ee8f3586eafec_1200x900.jpg и записано в CSV.\n",
      "Фото 2 скачано как 3365664b1526ca079de9cb73f856a9e8_1200x900.jpg и записано в CSV.\n",
      "Фото 3 скачано как aced1d04396d1f9ebbefecf2e3e197e4_1200x900.jpg и записано в CSV.\n",
      "Фото 4 скачано как ea9c174d31bf8d45017db3c5e45866aa_1200x900.jpg и записано в CSV.\n",
      "Фото 5 скачано как cece1f8b9188c9c740b1e2783e3a5d53_1200x900.jpg и записано в CSV.\n",
      "Фото 6 скачано как 5245c8717cb16269c7aacd5ad6b7c64f_1200x900.jpg и записано в CSV.\n"
     ]
    },
    {
     "name": "stderr",
     "output_type": "stream",
     "text": [
      "\r",
      "Flat images parsing:  27%|████████████████▌                                            | 19/70 [06:15<15:44, 18.53s/it]"
     ]
    },
    {
     "name": "stdout",
     "output_type": "stream",
     "text": [
      "Фото 7 скачано как 32a054238a664e71f7c63174efbc677b_1200x900.jpg и записано в CSV.\n",
      "--------end of flat 1919 / 1970 ---------\n"
     ]
    },
    {
     "name": "stderr",
     "output_type": "stream",
     "text": [
      "\r",
      "Flat images parsing:  29%|█████████████████▍                                           | 20/70 [06:17<11:13, 13.47s/it]"
     ]
    },
    {
     "name": "stdout",
     "output_type": "stream",
     "text": [
      "Фото 1 скачано как d29dbab9570491bcf0bf0ff9231bd4c4_1200x900.jpg и записано в CSV.\n",
      "Фото 2 скачано как c9502930277ac93062133ddf3e400bb9_1200x900.jpg и записано в CSV.\n",
      "Фото 3 скачано как 1ad10ac187b41d0f4965c287a296ae65_1200x900.jpg и записано в CSV.\n",
      "Фото 4 скачано как 757019f58bd7cf907ad0d1fe1c168bd4_1200x900.jpg и записано в CSV.\n",
      "Фото 5 скачано как bc38d82e69751e64abddc2001ad44921_1200x900.jpg и записано в CSV.\n",
      "Фото 6 скачано как 556130e69f5d2c750990bfec6fed6b66_1200x900.jpg и записано в CSV.\n"
     ]
    },
    {
     "name": "stderr",
     "output_type": "stream",
     "text": [
      "\r",
      "Flat images parsing:  30%|██████████████████▎                                          | 21/70 [06:33<11:45, 14.40s/it]"
     ]
    },
    {
     "name": "stdout",
     "output_type": "stream",
     "text": [
      "Фото 7 скачано как 17eb55df46ec3fd9529f8426afa14fd6_1200x900.jpg и записано в CSV.\n",
      "--------end of flat 1921 / 1970 ---------\n",
      "Фото 1 скачано как 16b5c9ffffa2e602335fc6230ab00f0d_1200x900.jpg и записано в CSV.\n",
      "Фото 2 скачано как 47f8cb3836b08febdcfd554f10f23305_1200x900.jpg и записано в CSV.\n",
      "Фото 3 скачано как f7d77b1a9c1c55d9fa055936b620c1ec_1200x900.jpg и записано в CSV.\n",
      "Фото 4 скачано как 2a0c2703a84fe42be74de2ee4f7b106a_1200x900.jpg и записано в CSV.\n",
      "Фото 5 скачано как cec93f29ac2d6d44b564982f1bb79cf9_1200x900.jpg и записано в CSV.\n",
      "Фото 6 скачано как 802e7511bdcc21c24e6132245cc90058_1200x900.jpg и записано в CSV.\n"
     ]
    },
    {
     "name": "stderr",
     "output_type": "stream",
     "text": [
      "\r",
      "Flat images parsing:  31%|███████████████████▏                                         | 22/70 [06:53<12:48, 16.01s/it]"
     ]
    },
    {
     "name": "stdout",
     "output_type": "stream",
     "text": [
      "Фото 7 скачано как 933a0b3e141a63a97a8d4ec0824106a4_1200x900.jpg и записано в CSV.\n",
      "--------end of flat 1922 / 1970 ---------\n",
      "Фото 1 скачано как b1e7c2324192827948a274524fdbeb83_1200x900.jpg и записано в CSV.\n",
      "Фото 2 скачано как b9778f6221671f0b5028b0b999df3d46_1200x900.jpg и записано в CSV.\n",
      "Фото 3 скачано как a7dd4057281736f976d2236fce80a6fe_1200x900.jpg и записано в CSV.\n",
      "Фото 4 скачано как 01df8894572b000677d9c643811a9075_1200x900.jpg и записано в CSV.\n"
     ]
    },
    {
     "name": "stderr",
     "output_type": "stream",
     "text": [
      "\r",
      "Flat images parsing:  33%|████████████████████                                         | 23/70 [07:04<11:14, 14.35s/it]"
     ]
    },
    {
     "name": "stdout",
     "output_type": "stream",
     "text": [
      "Фото 5 скачано как 28994360d6bc5511842d3fd80261d681_1200x900.jpg и записано в CSV.\n",
      "--------end of flat 1923 / 1970 ---------\n",
      "Фото 1 скачано как e0a0e824974c9fc101034b30232ca601_1200x900.jpg и записано в CSV.\n"
     ]
    },
    {
     "name": "stderr",
     "output_type": "stream",
     "text": [
      "\r",
      "Flat images parsing:  34%|████████████████████▉                                        | 24/70 [07:10<09:10, 11.97s/it]"
     ]
    },
    {
     "name": "stdout",
     "output_type": "stream",
     "text": [
      "Фото 2 скачано как 2c5fa2251ba890efc05346e5631f229e_1200x900.jpg и записано в CSV.\n",
      "--------end of flat 1924 / 1970 ---------\n",
      "Фото 1 скачано как aba391ce3a378cb358f58e910dc56bdb_1200x900.jpg и записано в CSV.\n",
      "Фото 2 скачано как b843dfc0fba7fbf319c3c5c0d8163d10_1200x900.jpg и записано в CSV.\n",
      "Фото 3 скачано как e3e5eefe7924bd31d3a1358b4811d107_1200x900.jpg и записано в CSV.\n",
      "Фото 4 скачано как 4751aa16a8d0ac39d7d02a7779c9bcd8_1200x900.jpg и записано в CSV.\n"
     ]
    },
    {
     "name": "stderr",
     "output_type": "stream",
     "text": [
      "\r",
      "Flat images parsing:  36%|█████████████████████▊                                       | 25/70 [07:21<08:49, 11.76s/it]"
     ]
    },
    {
     "name": "stdout",
     "output_type": "stream",
     "text": [
      "Фото 5 скачано как 48a3da31dc5c2d9a06c777375538aed4_1200x900.jpg и записано в CSV.\n",
      "--------end of flat 1925 / 1970 ---------\n",
      "Фото 1 скачано как c50c6ee0b0ee4d279a2c9720b359d62e_1200x900.jpg и записано в CSV.\n",
      "Фото 2 скачано как 48cc78d69bf40325b54ab67993eeffd6_1200x900.jpg и записано в CSV.\n",
      "Фото 3 скачано как e07ba6dbc9e8194a8d180e3242bf2035_1200x900.jpg и записано в CSV.\n",
      "Фото 4 скачано как bc7f7ff801556ebf42b8a9797ce25365_1200x900.jpg и записано в CSV.\n"
     ]
    },
    {
     "name": "stderr",
     "output_type": "stream",
     "text": [
      "\r",
      "Flat images parsing:  37%|██████████████████████▋                                      | 26/70 [07:33<08:31, 11.62s/it]"
     ]
    },
    {
     "name": "stdout",
     "output_type": "stream",
     "text": [
      "Фото 5 скачано как d7058f653ae8f9034ca84b73e97b8a1a_1200x900.jpg и записано в CSV.\n",
      "--------end of flat 1926 / 1970 ---------\n",
      "Фото 1 скачано как 366c9768922f6068ba51bc91f47fa0c2_1200x900.jpg и записано в CSV.\n",
      "Фото 2 скачано как 992c443e0ab782b538839752a5c4dd65_1200x900.jpg и записано в CSV.\n",
      "Фото 3 скачано как 9f16c875744e2107c06ce7f9987c5592_1200x900.jpg и записано в CSV.\n",
      "Фото 4 скачано как bb6dcf3dfcf8611575a7ad39cb81501d_1200x900.jpg и записано в CSV.\n",
      "Фото 5 скачано как 5804515c48e831ca4493a3b0ec630621_1200x900.jpg и записано в CSV.\n",
      "Фото 6 скачано как 110ad6973de1de8350891933247082d5_1200x900.jpg и записано в CSV.\n",
      "Фото 7 скачано как 64696675c824bf698265207102968bd3_1200x900.jpg и записано в CSV.\n"
     ]
    },
    {
     "name": "stderr",
     "output_type": "stream",
     "text": [
      "\r",
      "Flat images parsing:  39%|███████████████████████▌                                     | 27/70 [07:50<09:38, 13.46s/it]"
     ]
    },
    {
     "name": "stdout",
     "output_type": "stream",
     "text": [
      "Фото 8 скачано как 3f1a4115655710761decaa6aea7abf48_1200x900.jpg и записано в CSV.\n",
      "--------end of flat 1927 / 1970 ---------\n",
      "Фото 1 скачано как 20eeaa7d6ff42c82408329e42e6568c3_1200x900.jpg и записано в CSV.\n",
      "Фото 2 скачано как 1b13d08e1edb4c884e7388c26e6342fc_1200x900.jpg и записано в CSV.\n",
      "Фото 3 скачано как 508d7c9d4a35dbafc30e7f24015bec11_1200x900.jpg и записано в CSV.\n"
     ]
    },
    {
     "name": "stderr",
     "output_type": "stream",
     "text": [
      "\r",
      "Flat images parsing:  40%|████████████████████████▍                                    | 28/70 [08:01<08:54, 12.72s/it]"
     ]
    },
    {
     "name": "stdout",
     "output_type": "stream",
     "text": [
      "Фото 4 скачано как 8a2fe2b4859a8b84578afb8f799229a8_1200x900.jpg и записано в CSV.\n",
      "--------end of flat 1928 / 1970 ---------\n",
      "Фото 1 скачано как c428767c175dca1a31dcdc7c7502056a_1200x900.jpg и записано в CSV.\n",
      "Фото 2 скачано как ce87cc8bdc05ce6afb0c73e190f884e6_1200x900.jpg и записано в CSV.\n",
      "Фото 3 скачано как 4f9d285520dda5a5242fef0d8b7ef9a0_1200x900.jpg и записано в CSV.\n",
      "Фото 4 скачано как aad60bcb3f211b175073d74281a12b63_1200x900.jpg и записано в CSV.\n",
      "Фото 5 скачано как c62ee2e60243613cf738c112acea4c59_1200x900.jpg и записано в CSV.\n",
      "Фото 6 скачано как 954ed3ef5afc9f47ac1ea778573ea585_1200x900.jpg и записано в CSV.\n",
      "Фото 7 скачано как e8525e178469e346ab75c71b427ed5ce_1200x900.jpg и записано в CSV.\n",
      "Фото 8 скачано как 7872e68035ff47470be2b6241cf3c8d2_1200x900.jpg и записано в CSV.\n",
      "Фото 9 скачано как 319a3ae8bd2570322360eb6b78d2bca2_1200x900.jpg и записано в CSV.\n",
      "Фото 10 скачано как 862a535dc03d83704b3cfef13f1543a6_1200x900.jpg и записано в CSV.\n",
      "Фото 11 скачано как 1204c1bd1483db01d1861df57a903c31_1200x900.jpg и записано в CSV.\n"
     ]
    },
    {
     "name": "stderr",
     "output_type": "stream",
     "text": [
      "\r",
      "Flat images parsing:  41%|█████████████████████████▎                                   | 29/70 [08:27<11:21, 16.61s/it]"
     ]
    },
    {
     "name": "stdout",
     "output_type": "stream",
     "text": [
      "Фото 12 скачано как 8f3982b6950cb6070bf02bb79760b1e9_1200x900.jpg и записано в CSV.\n",
      "--------end of flat 1929 / 1970 ---------\n",
      "Фото 1 скачано как f2f5b3c094c87944eccd6fbbb8b82c9b_1200x900.jpg и записано в CSV.\n",
      "Фото 2 скачано как 3911cee83d674d104cbcaaa93260c8a8_1200x900.jpg и записано в CSV.\n",
      "Фото 3 скачано как ee97c6bf2ba8ba9429da672582ea6984_1200x900.jpg и записано в CSV.\n",
      "Фото 4 скачано как 651c8047878b4862f54063b585039ac7_1200x900.jpg и записано в CSV.\n"
     ]
    },
    {
     "name": "stderr",
     "output_type": "stream",
     "text": [
      "\r",
      "Flat images parsing:  43%|██████████████████████████▏                                  | 30/70 [08:42<10:47, 16.19s/it]"
     ]
    },
    {
     "name": "stdout",
     "output_type": "stream",
     "text": [
      "Фото 5 скачано как d35cc1a8110f12d4a23b862b2e9c0ea6_1200x900.jpg и записано в CSV.\n",
      "--------end of flat 1930 / 1970 ---------\n",
      "Фото 1 скачано как 71b513e158f8c2f238c4cf4bc202ce2f_1200x900.jpg и записано в CSV.\n",
      "Фото 2 скачано как 36c888d053970f9533a9b054167f4b42_1200x900.jpg и записано в CSV.\n"
     ]
    },
    {
     "name": "stderr",
     "output_type": "stream",
     "text": [
      "\r",
      "Flat images parsing:  44%|███████████████████████████                                  | 31/70 [08:50<08:48, 13.56s/it]"
     ]
    },
    {
     "name": "stdout",
     "output_type": "stream",
     "text": [
      "Фото 3 скачано как 851e9cea453f0c0973cb12d7c5140ed8_1200x900.jpg и записано в CSV.\n",
      "--------end of flat 1931 / 1970 ---------\n",
      "Фото 1 скачано как abb4135dd18085750d8927d7579cefdf_1200x900.jpg и записано в CSV.\n",
      "Фото 2 скачано как e71d5038cc4e3b023fabdb2bcb1819a2_1200x900.jpg и записано в CSV.\n",
      "Фото 3 скачано как fc9650333fa808121b3dff5d6ae4e2a0_1200x900.jpg и записано в CSV.\n",
      "Фото 4 скачано как d7aa00480e0c0e967e1bc906ac502841_1200x900.jpg и записано в CSV.\n",
      "Фото 5 скачано как c21a72c9ffa287f20849c17398e50951_1200x900.jpg и записано в CSV.\n",
      "Фото 6 скачано как aff9f68a7323174d13f6ad566b083329_1200x900.jpg и записано в CSV.\n",
      "Фото 7 скачано как 938d8fbec79362d3aa411d338cd48a94_1200x900.jpg и записано в CSV.\n",
      "Фото 8 скачано как 751bac1612902ca5e384ea547ed8715e_1200x900.jpg и записано в CSV.\n",
      "Фото 9 скачано как cf7403ad74b9fd9fa322e40cc256b918_1200x900.jpg и записано в CSV.\n",
      "Фото 10 скачано как b2d52f2f17bd9eaa011571398def0f00_1200x900.jpg и записано в CSV.\n",
      "Фото 11 скачано как ada0f01034b79f46487e4891fd5e9ab7_1200x900.jpg и записано в CSV.\n"
     ]
    },
    {
     "name": "stderr",
     "output_type": "stream",
     "text": [
      "\r",
      "Flat images parsing:  46%|███████████████████████████▉                                 | 32/70 [09:16<10:58, 17.32s/it]"
     ]
    },
    {
     "name": "stdout",
     "output_type": "stream",
     "text": [
      "Фото 12 скачано как de62d0db5e05342791dd23eddbcb3088_1200x900.jpg и записано в CSV.\n",
      "--------end of flat 1932 / 1970 ---------\n",
      "Фото 1 скачано как 4852917a45bb5458541fac2fa0000d70_1200x900.jpg и записано в CSV.\n"
     ]
    },
    {
     "name": "stderr",
     "output_type": "stream",
     "text": [
      "\r",
      "Flat images parsing:  47%|████████████████████████████▊                                | 33/70 [09:21<08:29, 13.78s/it]"
     ]
    },
    {
     "name": "stdout",
     "output_type": "stream",
     "text": [
      "Фото 2 скачано как 71081d3c23a60b2524dfb7229ccd66f5_1200x900.jpg и записано в CSV.\n",
      "--------end of flat 1933 / 1970 ---------\n",
      "Фото 1 скачано как 348a320eb9142ced94c8fc7342b3e19a_1200x900.jpg и записано в CSV.\n",
      "Фото 2 скачано как 92760a0ffd4c015373d2dad1731abbf2_1200x900.jpg и записано в CSV.\n",
      "Фото 3 скачано как c2a5bb2ec95cabdce47a244da23709b5_1200x900.jpg и записано в CSV.\n",
      "Фото 4 скачано как 7461175bf50d0a235bcb03a6eda5290e_1200x900.jpg и записано в CSV.\n",
      "Фото 5 скачано как 6f50fa64cd6dd2d2fee34c0a4a6c17cd_1200x900.jpg и записано в CSV.\n",
      "Фото 6 скачано как b689a20f4acea7a84d45b51422054bf3_1200x900.jpg и записано в CSV.\n",
      "Фото 7 скачано как d516c28daae4e7bcb398ee8f85b1c6b4_1200x900.jpg и записано в CSV.\n",
      "Фото 8 скачано как eaa8e6f7c20b2dbd25f05b900372641c_1200x900.jpg и записано в CSV.\n",
      "Фото 9 скачано как d5c7598a9a21fec4a502abd3c0a1e4b5_1200x900.jpg и записано в CSV.\n",
      "Фото 10 скачано как a0d66c366501f8fb5160d964255ce567_1200x900.jpg и записано в CSV.\n",
      "Фото 11 скачано как 3aed590e24c67fcac6bbb7a726a21bc8_1200x900.jpg и записано в CSV.\n",
      "Фото 12 скачано как f2db8dd92d4c84db8daef6045c734689_1200x900.jpg и записано в CSV.\n",
      "Фото 13 скачано как 691ee15e4b4c29201ed30c4228bff784_1200x900.jpg и записано в CSV.\n",
      "Фото 14 скачано как c08df2e54bcd7997e56687fd1dac7bc1_1200x900.jpg и записано в CSV.\n",
      "Фото 15 скачано как f0a88b12aad5ad78ba82cb000b61f0c0_1200x900.jpg и записано в CSV.\n"
     ]
    },
    {
     "name": "stderr",
     "output_type": "stream",
     "text": [
      "\r",
      "Flat images parsing:  49%|█████████████████████████████▋                               | 34/70 [09:57<12:13, 20.36s/it]"
     ]
    },
    {
     "name": "stdout",
     "output_type": "stream",
     "text": [
      "Фото 16 скачано как z7rvWKIV-as и записано в CSV.\n",
      "--------end of flat 1934 / 1970 ---------\n",
      "Фото 1 скачано как 908c333790cd9e8f760b991fee7e25a9_1200x900.jpg и записано в CSV.\n",
      "Фото 2 скачано как 93afc94b8e85757b5b972ad75295c4d4_1200x900.jpg и записано в CSV.\n",
      "Фото 3 скачано как 5b3ddde0b6bbb121f271b90a20438ed8_1200x900.jpg и записано в CSV.\n",
      "Фото 4 скачано как 864efd9a77e240cc49c0e1228e909c2c_1200x900.jpg и записано в CSV.\n",
      "Фото 5 скачано как b6d6d2f3a512c080dbf1445c0126479e_1200x900.jpg и записано в CSV.\n",
      "Фото 6 скачано как 57a6b02c1c13c25bbdfd14939930f5c3_1200x900.jpg и записано в CSV.\n",
      "Фото 7 скачано как a42d1340e0703f47c3c0bf32103de1ba_1200x900.jpg и записано в CSV.\n",
      "Фото 8 скачано как 849cb4c669388aa137b1a746a2172035_1200x900.jpg и записано в CSV.\n",
      "Фото 9 скачано как 75bd025144f4d555dd9552738e869e6f_1200x900.jpg и записано в CSV.\n"
     ]
    },
    {
     "name": "stderr",
     "output_type": "stream",
     "text": [
      "\r",
      "Flat images parsing:  50%|██████████████████████████████▌                              | 35/70 [11:09<20:52, 35.77s/it]"
     ]
    },
    {
     "name": "stdout",
     "output_type": "stream",
     "text": [
      "Фото 10 скачано как z7rvWKIV-as и записано в CSV.\n",
      "--------end of flat 1935 / 1970 ---------\n",
      "Фото 1 скачано как d3474f89666c8389d0b4bb3d1f11fb46_1200x900.jpg и записано в CSV.\n",
      "Фото 2 скачано как 43a8df7a90f9eb11378db181002a2d04_1200x900.jpg и записано в CSV.\n",
      "Фото 3 скачано как e2e9e6a7c4de26c3edf8ee063ef76f2e_1200x900.jpg и записано в CSV.\n",
      "Фото 4 скачано как d3a328d3adcfe516a8da956cdee74745_1200x900.jpg и записано в CSV.\n",
      "Фото 5 скачано как f2746868deec73a59ccc6f7d434c5fda_1200x900.jpg и записано в CSV.\n",
      "Фото 6 скачано как 4f2a5ab0a4b1e110d32ff75f23112967_1200x900.jpg и записано в CSV.\n"
     ]
    },
    {
     "name": "stderr",
     "output_type": "stream",
     "text": [
      "\r",
      "Flat images parsing:  51%|███████████████████████████████▎                             | 36/70 [12:30<27:56, 49.30s/it]"
     ]
    },
    {
     "name": "stdout",
     "output_type": "stream",
     "text": [
      "Фото 7 скачано как b2066e0d1ba3893f0e281b24c904963b_1200x900.jpg и записано в CSV.\n",
      "--------end of flat 1936 / 1970 ---------\n",
      "Фото 1 скачано как 5a9065b32ffac94cbe56a0c7e5706582_1200x900.jpg и записано в CSV.\n",
      "Фото 2 скачано как d46a3a3eb9e4fad3a54241b906d5b5ff_1200x900.jpg и записано в CSV.\n",
      "Фото 3 скачано как 36b864fa0f2f5fbfcd4d00abc52aa584_1200x900.jpg и записано в CSV.\n",
      "Фото 4 скачано как 70741c7a9b305b4a956c332f9dcf8644_1200x900.jpg и записано в CSV.\n",
      "Фото 5 скачано как 40c64bd92ed0ff2c7cf7df9d83a30a9f_1200x900.jpg и записано в CSV.\n",
      "Фото 6 скачано как dacb9221d33655b9a4f96d668552b19b_1200x900.jpg и записано в CSV.\n"
     ]
    },
    {
     "name": "stderr",
     "output_type": "stream",
     "text": [
      "\r",
      "Flat images parsing:  53%|████████████████████████████████▏                            | 37/70 [13:12<25:54, 47.11s/it]"
     ]
    },
    {
     "name": "stdout",
     "output_type": "stream",
     "text": [
      "Фото 7 скачано как 37jCNp и записано в CSV.\n",
      "--------end of flat 1937 / 1970 ---------\n",
      "Фото 1 скачано как f6a98745abdb14c18d6208d401258609_1200x900.jpg и записано в CSV.\n",
      "Фото 2 скачано как b7670276c1534aa08119ad07324bb6ef_1200x900.jpg и записано в CSV.\n",
      "Фото 3 скачано как bc219b7f2bffcef5fa9aff14e9dada06_1200x900.jpg и записано в CSV.\n"
     ]
    },
    {
     "name": "stderr",
     "output_type": "stream",
     "text": [
      "\r",
      "Flat images parsing:  54%|█████████████████████████████████                            | 38/70 [13:22<19:10, 35.95s/it]"
     ]
    },
    {
     "name": "stdout",
     "output_type": "stream",
     "text": [
      "Фото 4 скачано как ea1eece2c8a4aa13cd39c66c534a1b1f_1200x900.jpg и записано в CSV.\n",
      "--------end of flat 1938 / 1970 ---------\n",
      "Фото 1 скачано как 3146950d00c44dabda3d4d6012645ac4_1200x900.jpg и записано в CSV.\n",
      "Фото 2 скачано как cd3f0783d08a74d7175bc2ddde604222_1200x900.jpg и записано в CSV.\n",
      "Фото 3 скачано как ab84b006d7e7460c51f6cc6c815265d8_1200x900.jpg и записано в CSV.\n",
      "Фото 4 скачано как 8e1de3419ae104974df1a2491e753fa0_1200x900.jpg и записано в CSV.\n",
      "Фото 5 скачано как d3cb273f04490a1abf4dbb975aa645d0_1200x900.jpg и записано в CSV.\n",
      "Фото 6 скачано как 853a0dce9b9bf870debe9a57ef131376_1200x900.jpg и записано в CSV.\n",
      "Фото 7 скачано как e3f260145b9a03c9bf56d0d25fe4150f_1200x900.jpg и записано в CSV.\n",
      "Фото 8 скачано как ff897e1d8a621c042f1fd864dac2605e_1200x900.jpg и записано в CSV.\n"
     ]
    },
    {
     "name": "stderr",
     "output_type": "stream",
     "text": [
      "\r",
      "Flat images parsing:  56%|█████████████████████████████████▉                           | 39/70 [13:41<16:03, 31.09s/it]"
     ]
    },
    {
     "name": "stdout",
     "output_type": "stream",
     "text": [
      "Фото 9 скачано как 3AQXYx и записано в CSV.\n",
      "--------end of flat 1939 / 1970 ---------\n",
      "Фото 1 скачано как c7365a4fa25a5c345dc49c3160df4969_1200x900.jpg и записано в CSV.\n"
     ]
    },
    {
     "name": "stderr",
     "output_type": "stream",
     "text": [
      "\r",
      "Flat images parsing:  57%|██████████████████████████████████▊                          | 40/70 [13:48<11:55, 23.85s/it]"
     ]
    },
    {
     "name": "stdout",
     "output_type": "stream",
     "text": [
      "Фото 2 скачано как 30cb2d5c07b28113b7c17faba92e2a05_1200x900.jpg и записано в CSV.\n",
      "--------end of flat 1940 / 1970 ---------\n",
      "Фото 1 скачано как 7ea16647d274a39b3fd22bb46bf221f6_1200x900.jpg и записано в CSV.\n",
      "Фото 2 скачано как 727bec89372a6f8b870e1976bc5bc5ea_1200x900.jpg и записано в CSV.\n",
      "Фото 3 скачано как 73e3d8578a721f89ae94166ed320fd3f_1200x900.jpg и записано в CSV.\n",
      "Фото 4 скачано как 4d3c5c8106454947008190031a7ae96c_1200x900.jpg и записано в CSV.\n",
      "Фото 5 скачано как 3a3d508e1a1b0bb548303500b143ba17_1200x900.jpg и записано в CSV.\n",
      "Фото 6 скачано как f272702783c0f883ef9294b7d99ea7bf_1200x900.jpg и записано в CSV.\n",
      "Фото 7 скачано как 80ace340dd36368553fbf23dcf406a6f_1200x900.jpg и записано в CSV.\n",
      "Фото 8 скачано как d479c0b1cb7a5da4c55daded122a1ba9_1200x900.jpg и записано в CSV.\n",
      "Фото 9 скачано как bc1613dc8c67b799071efb21d2ded667_1200x900.jpg и записано в CSV.\n",
      "Фото 10 скачано как e245889d9b2131b5c71b9e625182dfb3_1200x900.jpg и записано в CSV.\n"
     ]
    },
    {
     "name": "stderr",
     "output_type": "stream",
     "text": [
      "\r",
      "Flat images parsing:  59%|███████████████████████████████████▋                         | 41/70 [14:12<11:29, 23.77s/it]"
     ]
    },
    {
     "name": "stdout",
     "output_type": "stream",
     "text": [
      "Фото 11 скачано как z7rvWKIV-as и записано в CSV.\n",
      "--------end of flat 1941 / 1970 ---------\n",
      "Фото 1 скачано как 740b74fe1e34cbc671c6d7fe98c73108_1200x900.jpg и записано в CSV.\n",
      "Фото 2 скачано как 3483b02f9f8d60aa8a8dfbb3de0c6d12_1200x900.jpg и записано в CSV.\n",
      "Фото 3 скачано как e02dc61ed936f3e490b2af069f8527a4_1200x900.jpg и записано в CSV.\n",
      "Фото 4 скачано как ac0cce66973ebadcac48370b8a94bedd_1200x900.jpg и записано в CSV.\n",
      "Фото 5 скачано как e1d49f1b0a1c2474fc136fa3481100c1_1200x900.jpg и записано в CSV.\n",
      "Фото 6 скачано как 795616037104c89d61e6c9a54884caea_1200x900.jpg и записано в CSV.\n",
      "Фото 7 скачано как a3a1753d20a63845cec35c7407b61975_1200x900.jpg и записано в CSV.\n",
      "Фото 8 скачано как 7cba1c0d72b2cf9204b3f27a917625f5_1200x900.jpg и записано в CSV.\n",
      "Фото 9 скачано как 5dce6193e5bb4bb08264664ae51906be_1200x900.jpg и записано в CSV.\n"
     ]
    },
    {
     "name": "stderr",
     "output_type": "stream",
     "text": [
      "\r",
      "Flat images parsing:  60%|████████████████████████████████████▌                        | 42/70 [14:35<10:56, 23.44s/it]"
     ]
    },
    {
     "name": "stdout",
     "output_type": "stream",
     "text": [
      "Фото 10 скачано как e932d48da4d2b2c8069349dd3142abbf_1200x900.jpg и записано в CSV.\n",
      "--------end of flat 1942 / 1970 ---------\n",
      "Фото 1 скачано как 9d11cbaf3a218cc977c77db1f6386673_1200x900.jpg и записано в CSV.\n",
      "Фото 2 скачано как 94f1dde2af571512b6c1fcb37fddeaad_1200x900.jpg и записано в CSV.\n",
      "Фото 3 скачано как 36eb30d317a6270e20ad393dea3de0a1_1200x900.jpg и записано в CSV.\n",
      "Фото 4 скачано как 59bab211239e19e7a8fa514a809b7d66_1200x900.jpg и записано в CSV.\n",
      "Фото 5 скачано как f42be1d70465bd0937a42ff7c57140cf_1200x900.jpg и записано в CSV.\n",
      "Фото 6 скачано как 93caecd6c004b7608d1ea87d4065d297_1200x900.jpg и записано в CSV.\n",
      "Фото 7 скачано как 13f84cf703713486e0dd93bfcd6daebc_1200x900.jpg и записано в CSV.\n",
      "Фото 8 скачано как 9c91bebb72098af33b9f08c0a81f41df_1200x900.jpg и записано в CSV.\n",
      "Фото 9 скачано как 37451e63da48190f5c3012aac4d8748c_1200x900.jpg и записано в CSV.\n",
      "Фото 10 скачано как a84c7a9352699591b758e39f4257b866_1200x900.jpg и записано в CSV.\n",
      "Фото 11 скачано как a51942bd2f18ca4ff45260dbbbfd8d2a_1200x900.jpg и записано в CSV.\n",
      "Фото 12 скачано как 811b483504a8d44eef629f664aafe2c3_1200x900.jpg и записано в CSV.\n",
      "Фото 13 скачано как e97313d496bab2fdfb3dcae90967e3fa_1200x900.jpg и записано в CSV.\n"
     ]
    },
    {
     "name": "stderr",
     "output_type": "stream",
     "text": [
      "\r",
      "Flat images parsing:  61%|█████████████████████████████████████▍                       | 43/70 [15:06<11:34, 25.74s/it]"
     ]
    },
    {
     "name": "stdout",
     "output_type": "stream",
     "text": [
      "Фото 14 скачано как 3AQXYx и записано в CSV.\n",
      "--------end of flat 1943 / 1970 ---------\n",
      "Фото 1 скачано как 5b226686af93a084285c32ff7af7da5d_1200x900.jpg и записано в CSV.\n",
      "Фото 2 скачано как 19f8902e865ce5ad2dee27ffbb13d04c_1200x900.jpg и записано в CSV.\n"
     ]
    },
    {
     "name": "stderr",
     "output_type": "stream",
     "text": [
      "\r",
      "Flat images parsing:  63%|██████████████████████████████████████▎                      | 44/70 [15:12<08:40, 20.02s/it]"
     ]
    },
    {
     "name": "stdout",
     "output_type": "stream",
     "text": [
      "Фото 3 скачано как ef887d83d7bf83c3fb9a7b2ee729ef56_1200x900.jpg и записано в CSV.\n",
      "--------end of flat 1944 / 1970 ---------\n",
      "Фото 1 скачано как 5f656f143b4f94b250923330675be0aa_1200x900.jpg и записано в CSV.\n",
      "Фото 2 скачано как ae1df4e91b7522268b8dca684841afd2_1200x900.jpg и записано в CSV.\n",
      "Фото 3 скачано как 5a4df413ac5272d1a8dac10d6c2fb2e0_1200x900.jpg и записано в CSV.\n",
      "Фото 4 скачано как 8a21dcb236a9b5379f981d67a9d93928_1200x900.jpg и записано в CSV.\n",
      "Фото 5 скачано как 3a049f7fb53635871080bf8c3012b88d_1200x900.jpg и записано в CSV.\n",
      "Фото 6 скачано как b1a6c4981e17cb1bcebe1adda279e720_1200x900.jpg и записано в CSV.\n",
      "Фото 7 скачано как 6b05a18b156b54c05fbab2747d344918_1200x900.jpg и записано в CSV.\n",
      "Фото 8 скачано как 7bf67b3d76f9012d688769aa5829d5fc_1200x900.jpg и записано в CSV.\n",
      "Фото 9 скачано как 5a1392dfad531c722c3d0c5a22290d2b_1200x900.jpg и записано в CSV.\n",
      "Фото 10 скачано как d591b7fb4ca3422f6c5fc016e428b818_1200x900.jpg и записано в CSV.\n"
     ]
    },
    {
     "name": "stderr",
     "output_type": "stream",
     "text": [
      "\r",
      "Flat images parsing:  64%|███████████████████████████████████████▏                     | 45/70 [15:36<08:48, 21.14s/it]"
     ]
    },
    {
     "name": "stdout",
     "output_type": "stream",
     "text": [
      "Фото 11 скачано как z7rvWKIV-as и записано в CSV.\n",
      "--------end of flat 1945 / 1970 ---------\n",
      "Фото 1 скачано как 7951bc7269b80b558654b3fc2f2e695f_1200x900.jpg и записано в CSV.\n",
      "Фото 2 скачано как 3aba7ab044950e132fc689da17a41975_1200x900.jpg и записано в CSV.\n"
     ]
    },
    {
     "name": "stderr",
     "output_type": "stream",
     "text": [
      "\r",
      "Flat images parsing:  66%|████████████████████████████████████████                     | 46/70 [15:45<06:55, 17.33s/it]"
     ]
    },
    {
     "name": "stdout",
     "output_type": "stream",
     "text": [
      "Фото 3 скачано как 1f726e4cdc82e7c07adf110ed44de5ef_1200x900.jpg и записано в CSV.\n",
      "--------end of flat 1946 / 1970 ---------\n",
      "Фото 1 скачано как 561ca80e375b4a3489759f1698d22300_1200x900.jpg и записано в CSV.\n",
      "Фото 2 скачано как 26143a34478fa885737dfb7520534abf_1200x900.jpg и записано в CSV.\n",
      "Фото 3 скачано как 00117e1afe32dd761ea008bd0f5fd82e_1200x900.jpg и записано в CSV.\n",
      "Фото 4 скачано как 17b1e883ea30e3964cba65db5ba4d779_1200x900.jpg и записано в CSV.\n",
      "Фото 5 скачано как f1f7542b713b8c8c9aca2ca2bb855188_1200x900.jpg и записано в CSV.\n",
      "Фото 6 скачано как 73cb711aa73c40230536c35dace9fa06_1200x900.jpg и записано в CSV.\n",
      "Фото 7 скачано как 2882a2159ef0c5b99c5cf3a0d246c5a7_1200x900.jpg и записано в CSV.\n",
      "Фото 8 скачано как 2dd2e0c0b5c51a9cd844f59cf237f92e_1200x900.jpg и записано в CSV.\n",
      "Фото 9 скачано как c3d63daa461c0b609606e4128d3bb643_1200x900.jpg и записано в CSV.\n",
      "Фото 10 скачано как ac91dff69d4286534acda530f0d55c62_1200x900.jpg и записано в CSV.\n",
      "Фото 11 скачано как d5418b6b4f72e4d9b6c97d0cf50ce2ba_1200x900.jpg и записано в CSV.\n",
      "Фото 12 скачано как 6b6009fd975d326efde8b48d6e598a5d_1200x900.jpg и записано в CSV.\n",
      "Фото 13 скачано как 1c5161a65c7e91823fdd78bdd56e9eba_1200x900.jpg и записано в CSV.\n"
     ]
    },
    {
     "name": "stderr",
     "output_type": "stream",
     "text": [
      "\r",
      "Flat images parsing:  67%|████████████████████████████████████████▉                    | 47/70 [16:18<08:27, 22.05s/it]"
     ]
    },
    {
     "name": "stdout",
     "output_type": "stream",
     "text": [
      "Ошибка при скачивании фото 14.\n",
      "--------end of flat 1947 / 1970 ---------\n",
      "Фото 1 скачано как 20c58f0b8c12e8cde8a43439502d6d9b_1200x900.jpg и записано в CSV.\n",
      "Фото 2 скачано как 425e4d2e745c9c3c90e0e2f307231b30_1200x900.jpg и записано в CSV.\n",
      "Фото 3 скачано как 6a6ba1e56d6dc0b5dbcd8c26d742c2f1_1200x900.jpg и записано в CSV.\n",
      "Фото 4 скачано как 7442a0c73f3c94d10c586ed05d5d6cd0_1200x900.jpg и записано в CSV.\n",
      "Фото 5 скачано как 0ced62c304756e3704cba3a70d05e167_1200x900.jpg и записано в CSV.\n",
      "Фото 6 скачано как 576d03454aceb6c3d16e6f21e6a62824_1200x900.jpg и записано в CSV.\n",
      "Фото 7 скачано как 2312bce5331186034436fe1e367ad0e7_1200x900.jpg и записано в CSV.\n"
     ]
    },
    {
     "name": "stderr",
     "output_type": "stream",
     "text": [
      "\r",
      "Flat images parsing:  69%|█████████████████████████████████████████▊                   | 48/70 [16:37<07:46, 21.21s/it]"
     ]
    },
    {
     "name": "stdout",
     "output_type": "stream",
     "text": [
      "Ошибка при скачивании фото 8.\n",
      "--------end of flat 1948 / 1970 ---------\n",
      "Фото 1 скачано как fb012e886d9d5d5cbe7e97128e6cc4ee_1200x900.jpg и записано в CSV.\n",
      "Фото 2 скачано как 9df7be684f9e87f800feeeb49a5045f7_1200x900.jpg и записано в CSV.\n",
      "Фото 3 скачано как d9b24cc05f56cb7ebde7abbd8651008e_1200x900.jpg и записано в CSV.\n",
      "Фото 4 скачано как 01c840e3cbc6529915860e94348c07e6_1200x900.jpg и записано в CSV.\n",
      "Фото 5 скачано как cff0ad2f301ded7ffe21650bfdd73604_1200x900.jpg и записано в CSV.\n",
      "Фото 6 скачано как c2907bb69e1b4bdea1ebcc336bb9183e_1200x900.jpg и записано в CSV.\n",
      "Фото 7 скачано как 604a1527ce32e73cd025701f9c46beb5_1200x900.jpg и записано в CSV.\n",
      "Фото 8 скачано как 34949e723cff1f51e18735b59d9058fa_1200x900.jpg и записано в CSV.\n",
      "Фото 9 скачано как 91e382f990601ed848597f3a14bb40b0_1200x900.jpg и записано в CSV.\n",
      "Фото 10 скачано как 2c0066f76ac06785a36a6fa8b9d31d55_1200x900.jpg и записано в CSV.\n",
      "Фото 11 скачано как cd87ce337173fc1bf28bf1ec3e835f51_1200x900.jpg и записано в CSV.\n",
      "Фото 12 скачано как b2951f104e24701cd1c5753ca3bf75af_1200x900.jpg и записано в CSV.\n"
     ]
    },
    {
     "name": "stderr",
     "output_type": "stream",
     "text": [
      "\r",
      "Flat images parsing:  70%|██████████████████████████████████████████▋                  | 49/70 [17:07<08:21, 23.90s/it]"
     ]
    },
    {
     "name": "stdout",
     "output_type": "stream",
     "text": [
      "Фото 13 скачано как z7rvWKIV-as и записано в CSV.\n",
      "--------end of flat 1949 / 1970 ---------\n",
      "Фото 1 скачано как f198e6c949cb194f24ff995888a8e856_1200x900.jpg и записано в CSV.\n",
      "Фото 2 скачано как df10b56d375db2498df2b3cf6d5e8887_1200x900.jpg и записано в CSV.\n",
      "Фото 3 скачано как d70f7486f1fcb8b1356e8786c021cee0_1200x900.jpg и записано в CSV.\n",
      "Фото 4 скачано как 35e1f53e04e11e75f3f70b9deda081fd_1200x900.jpg и записано в CSV.\n",
      "Фото 5 скачано как cc9939683a3576bf27a464103417a77a_1200x900.jpg и записано в CSV.\n",
      "Фото 6 скачано как 1060c1e7ddbfa00f7b32d267c0355f05_1200x900.jpg и записано в CSV.\n",
      "Фото 7 скачано как 126e79bce2d2760ff4cfddeec20579b1_1200x900.jpg и записано в CSV.\n",
      "Фото 8 скачано как 7036fe72321887a7ba2fc2b9762e33e3_1200x900.jpg и записано в CSV.\n",
      "Фото 9 скачано как 1a72d277c88234d79049e1be3987f2c6_1200x900.jpg и записано в CSV.\n",
      "Фото 10 скачано как f0e100bd78099dd4853fd3c278f17ed0_1200x900.jpg и записано в CSV.\n",
      "Фото 11 скачано как 4c3b16775fafa87b2cc4092d85b86ff4_1200x900.jpg и записано в CSV.\n"
     ]
    },
    {
     "name": "stderr",
     "output_type": "stream",
     "text": [
      "\r",
      "Flat images parsing:  71%|███████████████████████████████████████████▌                 | 50/70 [17:32<08:05, 24.26s/it]"
     ]
    },
    {
     "name": "stdout",
     "output_type": "stream",
     "text": [
      "Фото 12 скачано как 243915b93447a82815ad345e9f537088_1200x900.jpg и записано в CSV.\n",
      "--------end of flat 1950 / 1970 ---------\n",
      "Фото 1 скачано как cf039233415e16a40931cf99d918d068_1200x900.jpg и записано в CSV.\n",
      "Фото 2 скачано как 4fd856e86dd19eb5f4dafde86b6e0231_1200x900.jpg и записано в CSV.\n",
      "Фото 3 скачано как ff1255f2d9460363c5954a2cae69e168_1200x900.jpg и записано в CSV.\n",
      "Фото 4 скачано как fa4cd401cc72cb5c88362c75d4b29b54_1200x900.jpg и записано в CSV.\n",
      "Фото 5 скачано как 8da2e90982f2bb0f9d1e15a77e970225_1200x900.jpg и записано в CSV.\n",
      "Фото 6 скачано как 047b291ca193e28cd51c7a7dc114199e_1200x900.jpg и записано в CSV.\n",
      "Фото 7 скачано как 6c35e2e04d85060470b95da350fb7641_1200x900.jpg и записано в CSV.\n",
      "Фото 8 скачано как 01122750c0b212d56c5ae68c2b6be170_1200x900.jpg и записано в CSV.\n",
      "Фото 9 скачано как ebd8bee313802ec9ce80f5f0eb5f2a59_1200x900.jpg и записано в CSV.\n",
      "Фото 10 скачано как 4afeebf7128470788a31bf90a0f6ab6b_1200x900.jpg и записано в CSV.\n"
     ]
    },
    {
     "name": "stderr",
     "output_type": "stream",
     "text": [
      "\r",
      "Flat images parsing:  73%|████████████████████████████████████████████▍                | 51/70 [17:54<07:25, 23.46s/it]"
     ]
    },
    {
     "name": "stdout",
     "output_type": "stream",
     "text": [
      "Фото 11 скачано как 6bbf614437232a801d321db74610454d_1200x900.jpg и записано в CSV.\n",
      "--------end of flat 1951 / 1970 ---------\n",
      "Фото 1 скачано как 6becaf1b0831dcc314b68886dd6a0f61_1200x900.jpg и записано в CSV.\n",
      "Фото 2 скачано как a2c1f86d84011810859b07341d135a7e_1200x900.jpg и записано в CSV.\n",
      "Фото 3 скачано как 7afe31c4855c16703758858e8897df5c_1200x900.jpg и записано в CSV.\n",
      "Фото 4 скачано как 0617fa3d0851b70eda600b87cd39b7bb_1200x900.jpg и записано в CSV.\n",
      "Фото 5 скачано как 63e548ffe07e94a6e016c01e001d9e13_1200x900.jpg и записано в CSV.\n",
      "Фото 6 скачано как acdb3f2793ceb0f048870c0542be9b88_1200x900.jpg и записано в CSV.\n",
      "Фото 7 скачано как cd267cb093db872d313e9690033a0085_1200x900.jpg и записано в CSV.\n",
      "Фото 8 скачано как 84eed88b1d7eda7398170b4961d09f73_1200x900.jpg и записано в CSV.\n"
     ]
    },
    {
     "name": "stderr",
     "output_type": "stream",
     "text": [
      "\r",
      "Flat images parsing:  74%|█████████████████████████████████████████████▎               | 52/70 [18:16<06:57, 23.22s/it]"
     ]
    },
    {
     "name": "stdout",
     "output_type": "stream",
     "text": [
      "Фото 9 скачано как z7rvWKIV-as и записано в CSV.\n",
      "--------end of flat 1952 / 1970 ---------\n",
      "Фото 1 скачано как c868b76f1164f72a0c20871cc9c0c5ab_1200x900.jpg и записано в CSV.\n",
      "Фото 2 скачано как 7de20fac79d3fab4dacf2990fde59595_1200x900.jpg и записано в CSV.\n",
      "Фото 3 скачано как 6e4509c5e4a69648f5c19e303f688a91_1200x900.jpg и записано в CSV.\n",
      "Фото 4 скачано как bd483eae0561619153132e793c26c021_1200x900.jpg и записано в CSV.\n",
      "Фото 5 скачано как 0232941674c59eb381aae433dddea8c9_1200x900.jpg и записано в CSV.\n",
      "Фото 6 скачано как 59a4c54674a57a5304b78de07d2f638f_1200x900.jpg и записано в CSV.\n",
      "Фото 7 скачано как 2c7e600189a20b903a8914ab59a9a322_1200x900.jpg и записано в CSV.\n",
      "Фото 8 скачано как e9e9b9ebf8f43f20cfd03411f1313408_1200x900.jpg и записано в CSV.\n",
      "Фото 9 скачано как d071a071265658d163d4a252290e9d96_1200x900.jpg и записано в CSV.\n",
      "Фото 10 скачано как 45b91b2b589797f19d979b71d071bde7_1200x900.jpg и записано в CSV.\n",
      "Фото 11 скачано как d69d21258833cd530a3e613643eba2d0_1200x900.jpg и записано в CSV.\n",
      "Фото 12 скачано как cd95b6260668d6d66c0777de24c96183_1200x900.jpg и записано в CSV.\n"
     ]
    },
    {
     "name": "stderr",
     "output_type": "stream",
     "text": [
      "\r",
      "Flat images parsing:  76%|██████████████████████████████████████████████▏              | 53/70 [18:45<07:02, 24.86s/it]"
     ]
    },
    {
     "name": "stdout",
     "output_type": "stream",
     "text": [
      "Фото 13 скачано как fafef8da4be6e04198e38342e25d74f1_1200x900.jpg и записано в CSV.\n",
      "--------end of flat 1953 / 1970 ---------\n",
      "Фото 1 скачано как dbcc78fddb07e1588b47b7c51c376029_1200x900.jpg и записано в CSV.\n",
      "Фото 2 скачано как c0ddcd754bdaeb7681ded36d97e4efe0_1200x900.jpg и записано в CSV.\n",
      "Фото 3 скачано как b0708e9573e1a7f26055d9cf09a8bf15_1200x900.jpg и записано в CSV.\n",
      "Фото 4 скачано как e6075bf5d6067005a5d812095d87dd9a_1200x900.jpg и записано в CSV.\n",
      "Фото 5 скачано как 64b34925015edddb561b0b3fc8a6d9e1_1200x900.jpg и записано в CSV.\n",
      "Фото 6 скачано как 003d73b3a7c9448716b03ca8607229af_1200x900.jpg и записано в CSV.\n"
     ]
    },
    {
     "name": "stderr",
     "output_type": "stream",
     "text": [
      "\r",
      "Flat images parsing:  77%|███████████████████████████████████████████████              | 54/70 [19:02<06:00, 22.51s/it]"
     ]
    },
    {
     "name": "stdout",
     "output_type": "stream",
     "text": [
      "Фото 7 скачано как 3AQXYx и записано в CSV.\n",
      "--------end of flat 1954 / 1970 ---------\n",
      "Фото 1 скачано как aff0dcf018356452c949a48af3ea11ef_1200x900.jpg и записано в CSV.\n",
      "Фото 2 скачано как e7d460151fb8344dbddfaa7a80845f8f_1200x900.jpg и записано в CSV.\n",
      "Фото 3 скачано как f60ab27f5c0bf67fe18a0f35d8c8d58e_1200x900.jpg и записано в CSV.\n",
      "Фото 4 скачано как a3ff6f54522d8bb6f0d939257d85d879_1200x900.jpg и записано в CSV.\n",
      "Фото 5 скачано как d10a4e568ee4a4348d2c3b28ba2683d2_1200x900.jpg и записано в CSV.\n"
     ]
    },
    {
     "name": "stderr",
     "output_type": "stream",
     "text": [
      "\r",
      "Flat images parsing:  79%|███████████████████████████████████████████████▉             | 55/70 [19:14<04:48, 19.22s/it]"
     ]
    },
    {
     "name": "stdout",
     "output_type": "stream",
     "text": [
      "Фото 6 скачано как a3f2bc10a0b61695d1734a3db9eee50f_1200x900.jpg и записано в CSV.\n",
      "--------end of flat 1955 / 1970 ---------\n",
      "Фото 1 скачано как 5a39a9f74a732805098813a81cc352a3_1200x900.jpg и записано в CSV.\n",
      "Фото 2 скачано как 19ce51d8e6b2c00e0b1c2ec44ef457f5_1200x900.jpg и записано в CSV.\n",
      "Фото 3 скачано как c066f624dcc41594243abe59d045ac9f_1200x900.jpg и записано в CSV.\n",
      "Фото 4 скачано как 7f2074ba9c450d1d9966e8abff947bcc_1200x900.jpg и записано в CSV.\n",
      "Фото 5 скачано как 9f9c2bcab01e03b642ddbd747b9bff7a_1200x900.jpg и записано в CSV.\n",
      "Фото 6 скачано как fcd63b99e007f8d3104764c7b40ab722_1200x900.jpg и записано в CSV.\n",
      "Фото 7 скачано как 86b7cbfef589ff726fa41104f4daa793_1200x900.jpg и записано в CSV.\n",
      "Фото 8 скачано как 0ff020637d4b775b8db4905bd51e4b99_1200x900.jpg и записано в CSV.\n"
     ]
    },
    {
     "name": "stderr",
     "output_type": "stream",
     "text": [
      "\r",
      "Flat images parsing:  80%|████████████████████████████████████████████████▊            | 56/70 [19:34<04:32, 19.46s/it]"
     ]
    },
    {
     "name": "stdout",
     "output_type": "stream",
     "text": [
      "Фото 9 скачано как 3AQXYx и записано в CSV.\n",
      "--------end of flat 1956 / 1970 ---------\n",
      "Фото 1 скачано как 5326335727734cea56fa1964296fd196_1200x900.jpg и записано в CSV.\n",
      "Фото 2 скачано как d4b49b1ac90ee2c61d3cf39a52695ac9_1200x900.jpg и записано в CSV.\n",
      "Фото 3 скачано как 41fb906d540114cc1e085307b7956a7c_1200x900.jpg и записано в CSV.\n",
      "Фото 4 скачано как cbbaddb7e4400e340300424d912dffdd_1200x900.jpg и записано в CSV.\n",
      "Фото 5 скачано как 7ba9101e6c2186501d40b76e4a0ffeec_1200x900.jpg и записано в CSV.\n",
      "Фото 6 скачано как 2fd70a5774bd40d0b7ab763f1156f95e_1200x900.jpg и записано в CSV.\n",
      "Фото 7 скачано как 76ee1d1d4480dacab8e8ed722ca9f657_1200x900.jpg и записано в CSV.\n",
      "Фото 8 скачано как 4fedb2568f6eaf150be96385f31cb17a_1200x900.jpg и записано в CSV.\n",
      "Фото 9 скачано как 2bc83d3fb417bd91ba0d9c86d473c06b_1200x900.jpg и записано в CSV.\n",
      "Фото 10 скачано как 85c7178919ebd9dd2894995d0d3e5b14_1200x900.jpg и записано в CSV.\n",
      "Фото 11 скачано как 1b9aec74ffd16e6677d21b4746aa2c12_1200x900.jpg и записано в CSV.\n"
     ]
    },
    {
     "name": "stderr",
     "output_type": "stream",
     "text": [
      "\r",
      "Flat images parsing:  81%|█████████████████████████████████████████████████▋           | 57/70 [20:01<04:44, 21.92s/it]"
     ]
    },
    {
     "name": "stdout",
     "output_type": "stream",
     "text": [
      "Фото 12 скачано как z7rvWKIV-as и записано в CSV.\n",
      "--------end of flat 1957 / 1970 ---------\n",
      "Фото 1 скачано как ea94481be0e9b5fbc50526088fbd8770_1200x900.jpg и записано в CSV.\n",
      "Фото 2 скачано как 7de8bd66413bd1128df49d9250389977_1200x900.jpg и записано в CSV.\n",
      "Фото 3 скачано как 17347d99844fbb6be5baab3ed7d5cee1_1200x900.jpg и записано в CSV.\n",
      "Фото 4 скачано как 9a76bbf81c38e04083794470917052dd_1200x900.jpg и записано в CSV.\n",
      "Фото 5 скачано как 342d83cf4aebe502fd6199c159805ce9_1200x900.jpg и записано в CSV.\n",
      "Фото 6 скачано как 6483f3cc0e895f5935e28fa3882c9a32_1200x900.jpg и записано в CSV.\n",
      "Фото 7 скачано как df16790145eb19af926e5c2987a5d149_1200x900.jpg и записано в CSV.\n",
      "Фото 8 скачано как c267da9d0113b95821b64da5e3313c15_1200x900.jpg и записано в CSV.\n",
      "Фото 9 скачано как cd7ed3dd1e48888103b80aacd11e9d46_1200x900.jpg и записано в CSV.\n",
      "Фото 10 скачано как 66051b5449df6b039fc5e4a93044917f_1200x900.jpg и записано в CSV.\n"
     ]
    },
    {
     "name": "stderr",
     "output_type": "stream",
     "text": [
      "\r",
      "Flat images parsing:  83%|██████████████████████████████████████████████████▌          | 58/70 [20:23<04:21, 21.77s/it]"
     ]
    },
    {
     "name": "stdout",
     "output_type": "stream",
     "text": [
      "Фото 11 скачано как 3AQXYx и записано в CSV.\n",
      "--------end of flat 1958 / 1970 ---------\n",
      "Фото 1 скачано как 9f64d35cc37c9a6290bf2592d25a6576_1200x900.jpg и записано в CSV.\n",
      "Фото 2 скачано как a67a67e784bf641aa374c20efe3dd05f_1200x900.jpg и записано в CSV.\n",
      "Фото 3 скачано как 5ba63bf0df1c51ad56a16847dc88d6bc_1200x900.jpg и записано в CSV.\n",
      "Фото 4 скачано как 1d14af86c187f9c128b97a52d19f1f7b_1200x900.jpg и записано в CSV.\n",
      "Фото 5 скачано как fe9528219aa6449dd7d4c3c8d8cffc8c_1200x900.jpg и записано в CSV.\n",
      "Фото 6 скачано как 14ac6b195abad35b6f87711cb3824c77_1200x900.jpg и записано в CSV.\n",
      "Фото 7 скачано как cca509522d2a4a3fc222f3e3ab5c84b4_1200x900.jpg и записано в CSV.\n",
      "Фото 8 скачано как 692030c03c499bea6604c4d53e913d29_1200x900.jpg и записано в CSV.\n",
      "Фото 9 скачано как 465e73f68392874f435af1043b153486_1200x900.jpg и записано в CSV.\n",
      "Фото 10 скачано как 1b38fd46be34f5abfc50a156b7eb16fc_1200x900.jpg и записано в CSV.\n"
     ]
    },
    {
     "name": "stderr",
     "output_type": "stream",
     "text": [
      "\r",
      "Flat images parsing:  84%|███████████████████████████████████████████████████▍         | 59/70 [20:44<03:58, 21.67s/it]"
     ]
    },
    {
     "name": "stdout",
     "output_type": "stream",
     "text": [
      "Фото 11 скачано как e8f0d135cee50e244a52f6a11b4ffe9f_1200x900.jpg и записано в CSV.\n",
      "--------end of flat 1959 / 1970 ---------\n",
      "Фото 1 скачано как de4d25725aad9ea8027a1d4259838100_1200x900.jpg и записано в CSV.\n",
      "Фото 2 скачано как cd95031c460d2d3b9f55bda73a9ab7ed_1200x900.jpg и записано в CSV.\n",
      "Фото 3 скачано как 78f3c1d37a021eda2ce1c3e787c7aeb5_1200x900.jpg и записано в CSV.\n",
      "Фото 4 скачано как 91426b46fbfedde9ade314e9e5e08255_1200x900.jpg и записано в CSV.\n",
      "Фото 5 скачано как de76999a2880488f7189c5a93d7840c9_1200x900.jpg и записано в CSV.\n",
      "Фото 6 скачано как e50c713fcaec6f117fa9da5d82a64794_1200x900.jpg и записано в CSV.\n",
      "Фото 7 скачано как 00e9ed0bffce9495583279e61f896f4e_1200x900.jpg и записано в CSV.\n",
      "Фото 8 скачано как 6fa02c690088f0c8ab77579d301a9d33_1200x900.jpg и записано в CSV.\n",
      "Фото 9 скачано как 1c760e0c50fcc1066be44505fd0019b1_1200x900.jpg и записано в CSV.\n",
      "Фото 10 скачано как d24dd3d71871536b3fb78558b921bb4d_1200x900.jpg и записано в CSV.\n",
      "Фото 11 скачано как 3a9ef111adea18ba00edc70f85fca147_1200x900.jpg и записано в CSV.\n",
      "Фото 12 скачано как 115b672939e3e8be7fab4cc4834b9a89_1200x900.jpg и записано в CSV.\n",
      "Фото 13 скачано как f3e52460f42e401d1331602408acbc8b_1200x900.jpg и записано в CSV.\n"
     ]
    },
    {
     "name": "stderr",
     "output_type": "stream",
     "text": [
      "\r",
      "Flat images parsing:  86%|████████████████████████████████████████████████████▎        | 60/70 [21:12<03:54, 23.43s/it]"
     ]
    },
    {
     "name": "stdout",
     "output_type": "stream",
     "text": [
      "Фото 14 скачано как 3AQXYx и записано в CSV.\n",
      "--------end of flat 1960 / 1970 ---------\n",
      "Фото 1 скачано как f63e8316049b8df22f975253d728b427_1200x900.jpg и записано в CSV.\n",
      "Фото 2 скачано как 376e78c55e11e5eff01da1b207868523_1200x900.jpg и записано в CSV.\n",
      "Фото 3 скачано как 5220076cd27b16d2e4d166b3e6901c43_1200x900.jpg и записано в CSV.\n",
      "Фото 4 скачано как 2b4351da8ca125d325c41e5ef26d1c05_1200x900.jpg и записано в CSV.\n"
     ]
    },
    {
     "name": "stderr",
     "output_type": "stream",
     "text": [
      "\r",
      "Flat images parsing:  87%|█████████████████████████████████████████████████████▏       | 61/70 [21:21<02:53, 19.33s/it]"
     ]
    },
    {
     "name": "stdout",
     "output_type": "stream",
     "text": [
      "Фото 5 скачано как 3AQXYx и записано в CSV.\n",
      "--------end of flat 1961 / 1970 ---------\n",
      "Фото 1 скачано как d766eb4c04127b68af9854c2b82eaa6a_1200x900.jpg и записано в CSV.\n",
      "Фото 2 скачано как c78fc509c662e22394db3306650fa0d2_1200x900.jpg и записано в CSV.\n",
      "Фото 3 скачано как 3712d4bfa7cb6af37e07a381c677e347_1200x900.jpg и записано в CSV.\n",
      "Фото 4 скачано как 8a0df17e0cf59dc3fe7e9528773af886_1200x900.jpg и записано в CSV.\n",
      "Фото 5 скачано как 767c9d4a603cb6063445658bc1156414_1200x900.jpg и записано в CSV.\n",
      "Фото 6 скачано как f822622af7e85836b938c87f3fc28b3b_1200x900.jpg и записано в CSV.\n"
     ]
    },
    {
     "name": "stderr",
     "output_type": "stream",
     "text": [
      "\r",
      "Flat images parsing:  89%|██████████████████████████████████████████████████████       | 62/70 [21:35<02:21, 17.74s/it]"
     ]
    },
    {
     "name": "stdout",
     "output_type": "stream",
     "text": [
      "Фото 7 скачано как ce97450f65164d90141ff09807641adc_1200x900.jpg и записано в CSV.\n",
      "--------end of flat 1962 / 1970 ---------\n",
      "Фото 1 скачано как 28ef3aca4e5d3e0b401257ee8455d7d0_1200x900.jpg и записано в CSV.\n",
      "Фото 2 скачано как 359e388c3df28b2af63d600e872fe5b5_1200x900.jpg и записано в CSV.\n",
      "Фото 3 скачано как 0d5eae4e1b56cc878c87f24d73401f66_1200x900.jpg и записано в CSV.\n",
      "Фото 4 скачано как 3dce1f2dad1540c90647cdb4154bedd3_1200x900.jpg и записано в CSV.\n",
      "Фото 5 скачано как f363939fe1080a82ca2b82c4205d526f_1200x900.jpg и записано в CSV.\n",
      "Фото 6 скачано как aad7678cb57be5269186c7db0fb48964_1200x900.jpg и записано в CSV.\n",
      "Фото 7 скачано как ff8854077d61796340a47ca692c6e04f_1200x900.jpg и записано в CSV.\n",
      "Фото 8 скачано как e6da452634646ba77d09cb7c20eff785_1200x900.jpg и записано в CSV.\n"
     ]
    },
    {
     "name": "stderr",
     "output_type": "stream",
     "text": [
      "\r",
      "Flat images parsing:  90%|██████████████████████████████████████████████████████▉      | 63/70 [21:54<02:05, 17.93s/it]"
     ]
    },
    {
     "name": "stdout",
     "output_type": "stream",
     "text": [
      "Ошибка при скачивании фото 9.\n",
      "--------end of flat 1963 / 1970 ---------\n",
      "Фото 1 скачано как 5b26d05986a8f82076a5985e996a3df6_1200x900.jpg и записано в CSV.\n",
      "Фото 2 скачано как 36d93720bd43194e646c526bd1b2b71c_1200x900.jpg и записано в CSV.\n",
      "Фото 3 скачано как f163dc7de1b69debd63bdf23522d388a_1200x900.jpg и записано в CSV.\n",
      "Фото 4 скачано как e118eba346bfde1d29e90c2cf488b020_1200x900.jpg и записано в CSV.\n",
      "Фото 5 скачано как a2fc52b4124e62841f33cf09ad2ebe70_1200x900.jpg и записано в CSV.\n",
      "Фото 6 скачано как bb5d6dfa06a69af8ca41b6e8650fa8fd_1200x900.jpg и записано в CSV.\n"
     ]
    },
    {
     "name": "stderr",
     "output_type": "stream",
     "text": [
      "\r",
      "Flat images parsing:  91%|███████████████████████████████████████████████████████▊     | 64/70 [22:06<01:38, 16.34s/it]"
     ]
    },
    {
     "name": "stdout",
     "output_type": "stream",
     "text": [
      "Фото 7 скачано как z7rvWKIV-as и записано в CSV.\n",
      "--------end of flat 1964 / 1970 ---------\n",
      "Фото 1 скачано как bffe3774aa413ac1547d9e98c9507faf_1200x900.jpg и записано в CSV.\n",
      "Фото 2 скачано как 64a8b381cf5e4320daed73a2fac929d7_1200x900.jpg и записано в CSV.\n",
      "Фото 3 скачано как ec6d4f8861fd2c18bd4a0a3c253175c1_1200x900.jpg и записано в CSV.\n",
      "Фото 4 скачано как b31506f451617f6bbc4193f00af5eb30_1200x900.jpg и записано в CSV.\n",
      "Фото 5 скачано как b2d7ea6493a720c96770fb267486bcf7_1200x900.jpg и записано в CSV.\n",
      "Фото 6 скачано как 778e695a1f0b397aa4b7aaf42d3c4b9e_1200x900.jpg и записано в CSV.\n",
      "Фото 7 скачано как e08e30b25370457d9c61f561cb94712a_1200x900.jpg и записано в CSV.\n",
      "Фото 8 скачано как 8dec6022280fdf1fa3a4602c10d71d35_1200x900.jpg и записано в CSV.\n"
     ]
    },
    {
     "name": "stderr",
     "output_type": "stream",
     "text": [
      "\r",
      "Flat images parsing:  93%|████████████████████████████████████████████████████████▋    | 65/70 [22:24<01:23, 16.66s/it]"
     ]
    },
    {
     "name": "stdout",
     "output_type": "stream",
     "text": [
      "Фото 9 скачано как 3AQXYx и записано в CSV.\n",
      "--------end of flat 1965 / 1970 ---------\n",
      "Фото 1 скачано как 79bc508298adb4cb73b74019ef601214_1200x900.jpg и записано в CSV.\n",
      "Фото 2 скачано как 583233cf40768250d4833bab6bc0928e_1200x900.jpg и записано в CSV.\n",
      "Фото 3 скачано как 3dd4c5e76dae020e0fabf7fd4b42702c_1200x900.jpg и записано в CSV.\n",
      "Фото 4 скачано как 0f737108a69c9c0dc2ace827afcbca06_1200x900.jpg и записано в CSV.\n"
     ]
    },
    {
     "name": "stderr",
     "output_type": "stream",
     "text": [
      "\r",
      "Flat images parsing:  94%|█████████████████████████████████████████████████████████▌   | 66/70 [22:33<00:57, 14.45s/it]"
     ]
    },
    {
     "name": "stdout",
     "output_type": "stream",
     "text": [
      "Фото 5 скачано как 7d99151ed2fb2735f86f8b7919ca2eeb_1200x900.jpg и записано в CSV.\n",
      "--------end of flat 1966 / 1970 ---------\n",
      "Фото 1 скачано как 614af05c652797b0637c53795d5e8510_1200x900.jpg и записано в CSV.\n",
      "Фото 2 скачано как 0b1aa7a450594d201356e580deaeec71_1200x900.jpg и записано в CSV.\n"
     ]
    },
    {
     "name": "stderr",
     "output_type": "stream",
     "text": [
      "\r",
      "Flat images parsing:  96%|██████████████████████████████████████████████████████████▍  | 67/70 [22:39<00:35, 11.77s/it]"
     ]
    },
    {
     "name": "stdout",
     "output_type": "stream",
     "text": [
      "Фото 3 скачано как z7rvWKIV-as и записано в CSV.\n",
      "--------end of flat 1967 / 1970 ---------\n",
      "Фото 1 скачано как 0a9497b4d4e0d307120927f5734189e4_1200x900.jpg и записано в CSV.\n",
      "Фото 2 скачано как 552e7c6d74c6aeaa146c522d48e0ab16_1200x900.jpg и записано в CSV.\n",
      "Фото 3 скачано как d8805b4a350267e0ae1125e3744137c8_1200x900.jpg и записано в CSV.\n",
      "Фото 4 скачано как de94fe9d183b8e54de683a4ee3aedace_1200x900.jpg и записано в CSV.\n",
      "Фото 5 скачано как f3fc84244d7ce9dedf62f91c7241c376_1200x900.jpg и записано в CSV.\n"
     ]
    },
    {
     "name": "stderr",
     "output_type": "stream",
     "text": [
      "\r",
      "Flat images parsing:  97%|███████████████████████████████████████████████████████████▎ | 68/70 [22:52<00:24, 12.09s/it]"
     ]
    },
    {
     "name": "stdout",
     "output_type": "stream",
     "text": [
      "Фото 6 скачано как z7rvWKIV-as и записано в CSV.\n",
      "--------end of flat 1968 / 1970 ---------\n",
      "Фото 1 скачано как 0e9769d80734f0958384e3eed6e0c550_1200x900.jpg и записано в CSV.\n",
      "Фото 2 скачано как 0dcefc7f3851e723cd389d794edddf99_1200x900.jpg и записано в CSV.\n",
      "Фото 3 скачано как a183a648b43234cbdaf768e3302cbadf_1200x900.jpg и записано в CSV.\n",
      "Фото 4 скачано как ecacde130f586bb3214ccefbeb97b308_1200x900.jpg и записано в CSV.\n"
     ]
    },
    {
     "name": "stderr",
     "output_type": "stream",
     "text": [
      "\r",
      "Flat images parsing:  99%|████████████████████████████████████████████████████████████▏| 69/70 [23:00<00:11, 11.04s/it]"
     ]
    },
    {
     "name": "stdout",
     "output_type": "stream",
     "text": [
      "Фото 5 скачано как 479171cf837e3235097cb56e9c02604c_1200x900.jpg и записано в CSV.\n",
      "--------end of flat 1969 / 1970 ---------\n",
      "Фото 1 скачано как 1795d0b12a0e446abbad9a10803fafb1_1200x900.jpg и записано в CSV.\n",
      "Фото 2 скачано как 797a5bb55ac749d0d5f4cc39313e19d5_1200x900.jpg и записано в CSV.\n",
      "Фото 3 скачано как 7b49a3102b0905f1640936cbc05b5b3c_1200x900.jpg и записано в CSV.\n",
      "Фото 4 скачано как eb0938b1b5f7bdfc22b26c2fbc325a72_1200x900.jpg и записано в CSV.\n",
      "Фото 5 скачано как 75ae4f02ef1c375ac25a0c1843c70bde_1200x900.jpg и записано в CSV.\n",
      "Фото 6 скачано как 7b9b129f4b7d769f3c20b8cef24fc155_1200x900.jpg и записано в CSV.\n"
     ]
    },
    {
     "name": "stderr",
     "output_type": "stream",
     "text": [
      "Flat images parsing: 100%|█████████████████████████████████████████████████████████████| 70/70 [23:12<00:00, 19.90s/it]"
     ]
    },
    {
     "name": "stdout",
     "output_type": "stream",
     "text": [
      "Фото 7 скачано как 3AQXYx и записано в CSV.\n",
      "--------end of flat 1970 / 1970 ---------\n",
      "End of program\n",
      "CPU times: total: 8min 40s\n",
      "Wall time: 23min 13s\n"
     ]
    },
    {
     "name": "stderr",
     "output_type": "stream",
     "text": [
      "\n"
     ]
    }
   ],
   "source": [
    "%%time\n",
    "\n",
    "for url_id in tqdm(range(START_ID, END_ID+1), desc='Flat images parsing'):\n",
    "    flat_link = flat_urls[url_id]\n",
    "    flat_req = requests.get(flat_link)\n",
    "    flat_soup = BeautifulSoup(flat_req.text, \"html.parser\")\n",
    "\n",
    "    # Находим div с классом \"fotorama\"\n",
    "    fotorama_div = flat_soup.find('div', class_='fotorama')\n",
    "\n",
    "    # Ищем все ссылки на фото внутри этого блока\n",
    "    if fotorama_div is None:\n",
    "        writer_err.writerow([flat_link, None, None])\n",
    "    else:\n",
    "        image_tags = fotorama_div.find_all('a', href=True)\n",
    "        if image_tags is None:\n",
    "            writer_err.writerow([flat_link, None, None])\n",
    "        else:\n",
    "            # Скачиваем все изображения и записываем данные в CSV\n",
    "            for i, tag in enumerate(image_tags):\n",
    "                image_url = tag['href']\n",
    "                response = requests.get(image_url)\n",
    "\n",
    "                # Проверяем успешность запроса\n",
    "                if response.status_code == 200:\n",
    "                    # Извлекаем оригинальное имя файла из URL\n",
    "                    filename = get_filename_from_url(image_url)\n",
    "                    filepath = os.path.join(dir_images, filename)\n",
    "\n",
    "                    with open(filepath, 'wb') as f:\n",
    "                        f.write(response.content)\n",
    "\n",
    "                    # Записываем данные в CSV файл\n",
    "                    writer.writerow([flat_link, image_url, filename])\n",
    "                    print(f'Фото {i+1} скачано как {filename} и записано в CSV.')\n",
    "                else:\n",
    "                    writer_err.writerow([flat_link, image_url, filename])\n",
    "                    print(f'Ошибка при скачивании фото {i+1}.')\n",
    "\n",
    "            print(f'--------end of flat {url_id} / {END_ID} ---------')\n",
    "\n",
    "\n",
    "csv_file.close()\n",
    "csv_errors.close()\n",
    "\n",
    "print('End of program')"
   ]
  },
  {
   "cell_type": "code",
   "execution_count": 29,
   "id": "9e543faa",
   "metadata": {},
   "outputs": [],
   "source": [
    "fotorama_div"
   ]
  }
 ],
 "metadata": {
  "kernelspec": {
   "display_name": "Python 3 (ipykernel)",
   "language": "python",
   "name": "python3"
  },
  "language_info": {
   "codemirror_mode": {
    "name": "ipython",
    "version": 3
   },
   "file_extension": ".py",
   "mimetype": "text/x-python",
   "name": "python",
   "nbconvert_exporter": "python",
   "pygments_lexer": "ipython3",
   "version": "3.11.8"
  }
 },
 "nbformat": 4,
 "nbformat_minor": 5
}
