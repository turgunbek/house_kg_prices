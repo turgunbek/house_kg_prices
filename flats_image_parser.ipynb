{
 "cells": [
  {
   "cell_type": "code",
   "execution_count": 1,
   "id": "a747814a",
   "metadata": {},
   "outputs": [],
   "source": [
    "import csv\n",
    "from bs4 import BeautifulSoup\n",
    "import requests\n",
    "import os\n",
    "from tqdm import tqdm\n",
    "import pandas as pd"
   ]
  },
  {
   "cell_type": "code",
   "execution_count": 2,
   "id": "dfcc3b2a",
   "metadata": {},
   "outputs": [],
   "source": [
    "from urllib.parse import urlparse\n",
    "\n",
    "# Функция для получения имени файла из URL\n",
    "def get_filename_from_url(url):\n",
    "    parsed_url = urlparse(url)\n",
    "    return os.path.basename(parsed_url.path)"
   ]
  },
  {
   "cell_type": "code",
   "execution_count": 3,
   "id": "afa71138",
   "metadata": {},
   "outputs": [],
   "source": [
    "df = pd.read_csv('flats_unique.csv')\n",
    "flat_urls = df['link']"
   ]
  },
  {
   "cell_type": "code",
   "execution_count": 4,
   "id": "07616321",
   "metadata": {},
   "outputs": [
    {
     "data": {
      "text/plain": [
       "31"
      ]
     },
     "execution_count": 4,
     "metadata": {},
     "output_type": "execute_result"
    }
   ],
   "source": [
    "dir_images = 'images'\n",
    "FILE_OUT_NAME = 'url_images.csv'\n",
    "\n",
    "START_ID = ...\n",
    "END_ID = ...\n",
    "\n",
    "csv_errors = open('download_errors.csv', mode='w', newline='', encoding='utf-8')\n",
    "writer_err = csv.writer(csv_errors)\n",
    "writer_err.writerow(['flat_url', 'image_url', 'image_name'])\n",
    "\n",
    "\n",
    "csv_file = open(FILE_OUT_NAME, mode='w', newline='', encoding='utf-8')\n",
    "writer = csv.writer(csv_file)\n",
    "\n",
    "writer.writerow(['flat_url', 'image_url', 'image_name'])"
   ]
  },
  {
   "cell_type": "code",
   "execution_count": 5,
   "id": "b03d005d",
   "metadata": {},
   "outputs": [
    {
     "name": "stderr",
     "output_type": "stream",
     "text": [
      "\r",
      "Flat images parsing:   0%|                                                                       | 0/2 [00:00<?, ?it/s]"
     ]
    },
    {
     "name": "stdout",
     "output_type": "stream",
     "text": [
      "Фото 1 скачано как 4be33ca5dc3f60a1271981f99c81e753_1200x900.jpg и записано в CSV.\n",
      "Фото 2 скачано как ed7b958860f43831bf8256814b90097a_1200x900.jpg и записано в CSV.\n",
      "Фото 3 скачано как ade322ea624ca6ca61d6eb40673da9c1_1200x900.jpg и записано в CSV.\n",
      "Фото 4 скачано как 16e862604a3fb954c4e8bf8f2a7633ed_1200x900.jpg и записано в CSV.\n",
      "Фото 5 скачано как 7c18eec3e249b2c8b6e213eab57214c3_1200x900.jpg и записано в CSV.\n",
      "Фото 6 скачано как 8c476d751d02c63ed6e3526e2d90c911_1200x900.jpg и записано в CSV.\n",
      "Фото 7 скачано как 2e20d2049dd35dcfd2a6fda72ad5c744_1200x900.jpg и записано в CSV.\n",
      "Фото 8 скачано как 070ab1244ed51e52f0f4b18aeea13d32_1200x900.jpg и записано в CSV.\n",
      "Фото 9 скачано как f28466b3c9d47f483144de479aa2cf62_1200x900.jpg и записано в CSV.\n"
     ]
    },
    {
     "name": "stderr",
     "output_type": "stream",
     "text": [
      "\r",
      "Flat images parsing:  50%|███████████████████████████████▌                               | 1/2 [00:17<00:17, 17.07s/it]"
     ]
    },
    {
     "name": "stdout",
     "output_type": "stream",
     "text": [
      "Фото 10 скачано как 69c4828c0bfc38de3df569e341a783c5_1200x900.jpg и записано в CSV.\n",
      "--------end of flat 0 / 2 ---------\n",
      "Фото 1 скачано как 94ee478ce2762d236cdc457d5b555571_1200x900.jpg и записано в CSV.\n",
      "Фото 2 скачано как 0ae8bcd8c8492aaef5d227ac288e4a5b_1200x900.jpg и записано в CSV.\n",
      "Фото 3 скачано как 2a477d175e6e76a3ab563fb74fb74816_1200x900.jpg и записано в CSV.\n",
      "Фото 4 скачано как 96ac35a42eaa1a9ec3b3c76470043ad8_1200x900.jpg и записано в CSV.\n",
      "Фото 5 скачано как 46f3e6c59b38cfcaccb997d63914244d_1200x900.jpg и записано в CSV.\n",
      "Фото 6 скачано как 4c79e639ce626839f93aacf596e15706_1200x900.jpg и записано в CSV.\n",
      "Фото 7 скачано как 5b49e663602e0668f47f8bc27886b090_1200x900.jpg и записано в CSV.\n",
      "Фото 8 скачано как f9109d027bcf1a7ca06e29f3b4470653_1200x900.jpg и записано в CSV.\n",
      "Фото 9 скачано как 119ff22101e741d45d01db127b51b26b_1200x900.jpg и записано в CSV.\n",
      "Фото 10 скачано как 73ce8762683f05f0029de6d8f06d266b_1200x900.jpg и записано в CSV.\n"
     ]
    },
    {
     "name": "stderr",
     "output_type": "stream",
     "text": [
      "Flat images parsing: 100%|███████████████████████████████████████████████████████████████| 2/2 [00:46<00:00, 23.06s/it]"
     ]
    },
    {
     "name": "stdout",
     "output_type": "stream",
     "text": [
      "Фото 11 скачано как 11c721459d3dea20f7be23a2fcc473dd_1200x900.jpg и записано в CSV.\n",
      "--------end of flat 1 / 2 ---------\n",
      "End of program\n",
      "CPU times: total: 10.3 s\n",
      "Wall time: 46.1 s\n"
     ]
    },
    {
     "name": "stderr",
     "output_type": "stream",
     "text": [
      "\n"
     ]
    }
   ],
   "source": [
    "%%time\n",
    "\n",
    "for url_id in tqdm(range(START_ID, END_ID+1), desc='Flat images parsing'):\n",
    "    flat_link = flat_urls[url_id]\n",
    "    flat_req = requests.get(flat_link)\n",
    "    flat_soup = BeautifulSoup(flat_req.text, \"html.parser\")\n",
    "\n",
    "    # Находим div с классом \"fotorama\"\n",
    "    fotorama_div = flat_soup.find('div', class_='fotorama')\n",
    "\n",
    "    # Ищем все ссылки на фото внутри этого блока\n",
    "    image_tags = fotorama_div.find_all('a', href=True)\n",
    "\n",
    "    # Скачиваем все изображения и записываем данные в CSV\n",
    "    for i, tag in enumerate(image_tags):\n",
    "        image_url = tag['href']\n",
    "        response = requests.get(image_url)\n",
    "\n",
    "        # Проверяем успешность запроса\n",
    "        if response.status_code == 200:\n",
    "            # Извлекаем оригинальное имя файла из URL\n",
    "            filename = get_filename_from_url(image_url)\n",
    "            filepath = os.path.join('images', filename)\n",
    "\n",
    "            with open(filepath, 'wb') as f:\n",
    "                f.write(response.content)\n",
    "\n",
    "            # Записываем данные в CSV файл\n",
    "            writer.writerow([flat_link, image_url, filename])\n",
    "            print(f'Фото {i+1} скачано как {filename} и записано в CSV.')\n",
    "        else:\n",
    "            writer_err.writerow([flat_link, image_url, filename])\n",
    "            print(f'Ошибка при скачивании фото {i+1}.')\n",
    "\n",
    "    print(f'--------end of flat {url_id} / {END_ID} ---------')\n",
    "\n",
    "\n",
    "csv_file.close()\n",
    "csv_errors.close()\n",
    "\n",
    "print('End of program')"
   ]
  },
  {
   "cell_type": "code",
   "execution_count": null,
   "id": "74818b87",
   "metadata": {},
   "outputs": [],
   "source": []
  }
 ],
 "metadata": {
  "kernelspec": {
   "display_name": "Python 3 (ipykernel)",
   "language": "python",
   "name": "python3"
  },
  "language_info": {
   "codemirror_mode": {
    "name": "ipython",
    "version": 3
   },
   "file_extension": ".py",
   "mimetype": "text/x-python",
   "name": "python",
   "nbconvert_exporter": "python",
   "pygments_lexer": "ipython3",
   "version": "3.11.8"
  }
 },
 "nbformat": 4,
 "nbformat_minor": 5
}
