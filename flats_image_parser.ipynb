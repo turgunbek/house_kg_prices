{
 "cells": [
  {
   "cell_type": "code",
   "execution_count": 6,
   "id": "15adbbcd",
   "metadata": {},
   "outputs": [],
   "source": [
    "import csv\n",
    "from bs4 import BeautifulSoup\n",
    "import requests\n",
    "import os\n",
    "from tqdm import tqdm\n",
    "import pandas as pd"
   ]
  },
  {
   "cell_type": "code",
   "execution_count": 7,
   "id": "5ab8a6c0",
   "metadata": {},
   "outputs": [],
   "source": [
    "from urllib.parse import urlparse\n",
    "\n",
    "# Функция для получения имени файла из URL\n",
    "def get_filename_from_url(url):\n",
    "    parsed_url = urlparse(url)\n",
    "    return os.path.basename(parsed_url.path)"
   ]
  },
  {
   "cell_type": "code",
   "execution_count": 8,
   "id": "5a517ac2",
   "metadata": {},
   "outputs": [],
   "source": [
    "df = pd.read_csv('flats_unique.csv')\n",
    "flat_urls = df['link']"
   ]
  },
  {
   "cell_type": "code",
   "execution_count": 20,
   "id": "41ff0baa",
   "metadata": {},
   "outputs": [
    {
     "data": {
      "text/plain": [
       "31"
      ]
     },
     "execution_count": 20,
     "metadata": {},
     "output_type": "execute_result"
    }
   ],
   "source": [
    "START_ID = 3020\n",
    "END_ID = 3021\n",
    "\n",
    "dir_images = 'images'\n",
    "\n",
    "csv_errors = open('download_errors.csv', mode='w', newline='', encoding='utf-8')\n",
    "writer_err = csv.writer(csv_errors)\n",
    "writer_err.writerow(['flat_url', 'image_url', 'image_name'])\n",
    "\n",
    "FILE_OUT_NAME = 'url_images_' + str(START_ID) + '_' + str(END_ID) + '.csv'\n",
    "csv_file = open(FILE_OUT_NAME, mode='w', newline='', encoding='utf-8')\n",
    "writer = csv.writer(csv_file)\n",
    "\n",
    "writer.writerow(['flat_url', 'image_url', 'image_name'])"
   ]
  },
  {
   "cell_type": "code",
   "execution_count": 21,
   "id": "a03c5c2e",
   "metadata": {},
   "outputs": [
    {
     "name": "stderr",
     "output_type": "stream",
     "text": [
      "Flat images parsing:  50%|███████████████████████████████▌                               | 1/2 [00:02<00:02,  2.08s/it]"
     ]
    },
    {
     "name": "stdout",
     "output_type": "stream",
     "text": [
      "Фото 1 скачано как 9189e5bba3519a77f09f9b43c80e26ed_1200x900.jpg и записано в CSV.\n",
      "Фото 2 скачано как e619cae39a9b6cf08e78024643d96bcc_1200x900.jpg и записано в CSV.\n",
      "Фото 3 скачано как 61ab58c3210e70509abd4b371a391f32_1200x900.jpg и записано в CSV.\n",
      "Фото 4 скачано как 2a58c2d2f74d74347add72bd3a1823d2_1200x900.jpg и записано в CSV.\n"
     ]
    },
    {
     "name": "stderr",
     "output_type": "stream",
     "text": [
      "Flat images parsing: 100%|███████████████████████████████████████████████████████████████| 2/2 [00:11<00:00,  5.88s/it]"
     ]
    },
    {
     "name": "stdout",
     "output_type": "stream",
     "text": [
      "Фото 5 скачано как GQYNB4rjTj4 и записано в CSV.\n",
      "--------end of flat 3021 / 3021 ---------\n",
      "End of program\n",
      "CPU times: total: 3.7 s\n",
      "Wall time: 11.8 s\n"
     ]
    },
    {
     "name": "stderr",
     "output_type": "stream",
     "text": [
      "\n"
     ]
    }
   ],
   "source": [
    "%%time\n",
    "\n",
    "for url_id in tqdm(range(START_ID, END_ID+1), desc='Flat images parsing'):\n",
    "    flat_link = flat_urls[url_id]\n",
    "    flat_req = requests.get(flat_link)\n",
    "    flat_soup = BeautifulSoup(flat_req.text, \"html.parser\")\n",
    "\n",
    "    # Находим div с классом \"fotorama\"\n",
    "    fotorama_div = flat_soup.find('div', class_='fotorama')\n",
    "\n",
    "    # Ищем все ссылки на фото внутри этого блока\n",
    "    if fotorama_div is None:\n",
    "        writer_err.writerow([flat_link, None, None])\n",
    "        continue\n",
    "    image_tags = fotorama_div.find_all('a', href=True)\n",
    "    if image_tags is None:\n",
    "        writer_err.writerow([flat_link, None, None])\n",
    "        continue\n",
    "\n",
    "    # Скачиваем все изображения и записываем данные в CSV\n",
    "    for i, tag in enumerate(image_tags):\n",
    "        image_url = tag['href']\n",
    "        response = requests.get(image_url)\n",
    "\n",
    "        # Проверяем успешность запроса\n",
    "        if response.status_code == 200:\n",
    "            # Извлекаем оригинальное имя файла из URL\n",
    "            filename = get_filename_from_url(image_url)\n",
    "            filepath = os.path.join('images', filename)\n",
    "\n",
    "            with open(filepath, 'wb') as f:\n",
    "                f.write(response.content)\n",
    "\n",
    "            # Записываем данные в CSV файл\n",
    "            writer.writerow([flat_link, image_url, filename])\n",
    "            print(f'Фото {i+1} скачано как {filename} и записано в CSV.')\n",
    "        else:\n",
    "            writer_err.writerow([flat_link, image_url, filename])\n",
    "            print(f'Ошибка при скачивании фото {i+1}.')\n",
    "\n",
    "    print(f'--------end of flat {url_id} / {END_ID} ---------')\n",
    "\n",
    "\n",
    "csv_file.close()\n",
    "csv_errors.close()\n",
    "\n",
    "print('End of program')"
   ]
  },
  {
   "cell_type": "code",
   "execution_count": 17,
   "id": "a9ad8583",
   "metadata": {},
   "outputs": [],
   "source": [
    "fotorama_div"
   ]
  }
 ],
 "metadata": {
  "kernelspec": {
   "display_name": "Python 3 (ipykernel)",
   "language": "python",
   "name": "python3"
  },
  "language_info": {
   "codemirror_mode": {
    "name": "ipython",
    "version": 3
   },
   "file_extension": ".py",
   "mimetype": "text/x-python",
   "name": "python",
   "nbconvert_exporter": "python",
   "pygments_lexer": "ipython3",
   "version": "3.11.8"
  }
 },
 "nbformat": 4,
 "nbformat_minor": 5
}
